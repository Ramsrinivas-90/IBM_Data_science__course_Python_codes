{
 "cells": [
  {
   "cell_type": "markdown",
   "metadata": {},
   "source": [
    "<h1> Segmenting and Clustering in the Niegborhoods of City of Toronto, Canada </h1>"
   ]
  },
  {
   "cell_type": "markdown",
   "metadata": {},
   "source": [
    "<h3> First we will web scrap the data from the given wikipedia page </h3>"
   ]
  },
  {
   "cell_type": "code",
   "execution_count": 1,
   "metadata": {},
   "outputs": [
    {
     "name": "stdout",
     "output_type": "stream",
     "text": [
      "Collecting beautifulsoup4\n",
      "\u001b[?25l  Downloading https://files.pythonhosted.org/packages/cb/a1/c698cf319e9cfed6b17376281bd0efc6bfc8465698f54170ef60a485ab5d/beautifulsoup4-4.8.2-py3-none-any.whl (106kB)\n",
      "\u001b[K     |████████████████████████████████| 112kB 9.1MB/s eta 0:00:01\n",
      "\u001b[?25hCollecting soupsieve>=1.2 (from beautifulsoup4)\n",
      "  Downloading https://files.pythonhosted.org/packages/81/94/03c0f04471fc245d08d0a99f7946ac228ca98da4fa75796c507f61e688c2/soupsieve-1.9.5-py2.py3-none-any.whl\n",
      "Installing collected packages: soupsieve, beautifulsoup4\n",
      "Successfully installed beautifulsoup4-4.8.2 soupsieve-1.9.5\n"
     ]
    }
   ],
   "source": [
    "#install BeautifulSoup library\n",
    "! pip install beautifulsoup4"
   ]
  },
  {
   "cell_type": "code",
   "execution_count": 2,
   "metadata": {},
   "outputs": [
    {
     "name": "stdout",
     "output_type": "stream",
     "text": [
      "Collecting lxml\n",
      "\u001b[?25l  Downloading https://files.pythonhosted.org/packages/68/30/affd16b77edf9537f5be051905f33527021e20d563d013e8c42c7fd01949/lxml-4.4.2-cp36-cp36m-manylinux1_x86_64.whl (5.8MB)\n",
      "\u001b[K     |████████████████████████████████| 5.8MB 7.2MB/s eta 0:00:01\n",
      "\u001b[?25hInstalling collected packages: lxml\n",
      "Successfully installed lxml-4.4.2\n",
      "Requirement already satisfied: html5lib in /home/jupyterlab/conda/envs/python/lib/python3.6/site-packages (0.9999999)\n",
      "Requirement already satisfied: six in /home/jupyterlab/conda/envs/python/lib/python3.6/site-packages (from html5lib) (1.13.0)\n"
     ]
    }
   ],
   "source": [
    "#install lxml and html5lib parser library\n",
    "!pip install lxml\n",
    "!pip install html5lib"
   ]
  },
  {
   "cell_type": "code",
   "execution_count": 3,
   "metadata": {},
   "outputs": [
    {
     "name": "stdout",
     "output_type": "stream",
     "text": [
      "Collecting request\n",
      "  Downloading https://files.pythonhosted.org/packages/f1/27/7cbde262d854aedf217061a97020d66a63163c5c04e0ec02ff98c5d8f44e/request-2019.4.13.tar.gz\n",
      "Collecting get (from request)\n",
      "  Downloading https://files.pythonhosted.org/packages/3f/ef/bb46f77f7220ac1b7edba0c76d810c89fddb24ddd8c08f337b9b4a618db7/get-2019.4.13.tar.gz\n",
      "Collecting post (from request)\n",
      "  Downloading https://files.pythonhosted.org/packages/0f/05/bd79da5849ea6a92485ed7029ef97b1b75e55c26bc0ed3a7ec769af666f3/post-2019.4.13.tar.gz\n",
      "Requirement already satisfied: setuptools in /home/jupyterlab/conda/envs/python/lib/python3.6/site-packages (from request) (41.6.0.post20191101)\n",
      "Collecting query_string (from get->request)\n",
      "  Downloading https://files.pythonhosted.org/packages/12/3c/412a45daf5bea9b1d06d7de41787ec4168001dfa418db7ec8723356b119f/query-string-2019.4.13.tar.gz\n",
      "Collecting public (from query_string->get->request)\n",
      "  Downloading https://files.pythonhosted.org/packages/54/4d/b40004cc6c07665e48af22cfe1e631f219bf4282e15fa76a5b6364f6885c/public-2019.4.13.tar.gz\n",
      "Building wheels for collected packages: request, get, post, query-string, public\n",
      "  Building wheel for request (setup.py) ... \u001b[?25ldone\n",
      "\u001b[?25h  Stored in directory: /home/jupyterlab/.cache/pip/wheels/30/84/5f/484cfba678967ef58c16fce6890925d5c7172622f20111fbfd\n",
      "  Building wheel for get (setup.py) ... \u001b[?25ldone\n",
      "\u001b[?25h  Stored in directory: /home/jupyterlab/.cache/pip/wheels/c1/e3/c1/d02c8c58538853e4c9b78cadb74f6d5c5c370b48a69a7271aa\n",
      "  Building wheel for post (setup.py) ... \u001b[?25ldone\n",
      "\u001b[?25h  Stored in directory: /home/jupyterlab/.cache/pip/wheels/c3/c3/24/b5c132b537ab380c02d69e6bd4dec1f5db56b5fe19030473d7\n",
      "  Building wheel for query-string (setup.py) ... \u001b[?25ldone\n",
      "\u001b[?25h  Stored in directory: /home/jupyterlab/.cache/pip/wheels/d6/a4/78/01b20a9dc224dcc009fab669f7f27b943b8889c5150bd68d8a\n",
      "  Building wheel for public (setup.py) ... \u001b[?25ldone\n",
      "\u001b[?25h  Stored in directory: /home/jupyterlab/.cache/pip/wheels/23/7c/6e/f5b4e09d6596c8b8802b347e48f149031e2363368048f1347a\n",
      "Successfully built request get post query-string public\n",
      "Installing collected packages: public, query-string, get, post, request\n",
      "Successfully installed get-2019.4.13 post-2019.4.13 public-2019.4.13 query-string-2019.4.13 request-2019.4.13\n"
     ]
    }
   ],
   "source": [
    "# installing request library\n",
    "!pip install request"
   ]
  },
  {
   "cell_type": "code",
   "execution_count": 4,
   "metadata": {},
   "outputs": [],
   "source": [
    "#importing necessary libararies\n",
    "\n",
    "import random # library for random number generation\n",
    "import numpy as np # library for vectorized computation\n",
    "import pandas as pd # library to process data as dataframes\n",
    "\n",
    "import matplotlib.pyplot as plt # plotting library\n",
    "# backend for rendering plots within the browser\n",
    "%matplotlib inline"
   ]
  },
  {
   "cell_type": "code",
   "execution_count": 5,
   "metadata": {},
   "outputs": [
    {
     "name": "stdout",
     "output_type": "stream",
     "text": [
      "Solving environment: done\n",
      "\n",
      "\n",
      "==> WARNING: A newer version of conda exists. <==\n",
      "  current version: 4.5.11\n",
      "  latest version: 4.8.1\n",
      "\n",
      "Please update conda by running\n",
      "\n",
      "    $ conda update -n base -c defaults conda\n",
      "\n",
      "\n",
      "\n",
      "## Package Plan ##\n",
      "\n",
      "  environment location: /home/jupyterlab/conda/envs/python\n",
      "\n",
      "  added / updated specs: \n",
      "    - geopy\n",
      "\n",
      "\n",
      "The following packages will be downloaded:\n",
      "\n",
      "    package                    |            build\n",
      "    ---------------------------|-----------------\n",
      "    certifi-2019.11.28         |           py36_0         149 KB  conda-forge\n",
      "    scikit-learn-0.20.1        |   py36h22eb022_0         5.7 MB\n",
      "    liblapack-3.8.0            |      11_openblas          10 KB  conda-forge\n",
      "    liblapacke-3.8.0           |      11_openblas          10 KB  conda-forge\n",
      "    geographiclib-1.50         |             py_0          34 KB  conda-forge\n",
      "    libopenblas-0.3.6          |       h5a2b251_2         7.7 MB\n",
      "    scipy-1.4.1                |   py36h921218d_0        18.9 MB  conda-forge\n",
      "    libcblas-3.8.0             |      11_openblas          10 KB  conda-forge\n",
      "    libblas-3.8.0              |      11_openblas          10 KB  conda-forge\n",
      "    numpy-1.17.5               |   py36h95a1406_0         5.2 MB  conda-forge\n",
      "    geopy-1.20.0               |             py_0          57 KB  conda-forge\n",
      "    blas-2.11                  |         openblas          10 KB  conda-forge\n",
      "    ------------------------------------------------------------\n",
      "                                           Total:        37.8 MB\n",
      "\n",
      "The following NEW packages will be INSTALLED:\n",
      "\n",
      "    geographiclib: 1.50-py_0                              conda-forge\n",
      "    geopy:         1.20.0-py_0                            conda-forge\n",
      "    libblas:       3.8.0-11_openblas                      conda-forge\n",
      "    libcblas:      3.8.0-11_openblas                      conda-forge\n",
      "    liblapack:     3.8.0-11_openblas                      conda-forge\n",
      "    liblapacke:    3.8.0-11_openblas                      conda-forge\n",
      "    libopenblas:   0.3.6-h5a2b251_2                                  \n",
      "\n",
      "The following packages will be UPDATED:\n",
      "\n",
      "    blas:          1.1-openblas                           conda-forge --> 2.11-openblas         conda-forge\n",
      "    certifi:       2019.9.11-py36_0                       conda-forge --> 2019.11.28-py36_0     conda-forge\n",
      "    numpy:         1.16.2-py36_blas_openblash1522bff_0    conda-forge [blas_openblas] --> 1.17.5-py36h95a1406_0 conda-forge\n",
      "    scipy:         1.2.1-py36_blas_openblash1522bff_0     conda-forge [blas_openblas] --> 1.4.1-py36h921218d_0  conda-forge\n",
      "\n",
      "The following packages will be DOWNGRADED:\n",
      "\n",
      "    scikit-learn:  0.20.1-py36_blas_openblashebff5e3_1200 conda-forge [blas_openblas] --> 0.20.1-py36h22eb022_0            \n",
      "\n",
      "\n",
      "Downloading and Extracting Packages\n",
      "certifi-2019.11.28   | 149 KB    | ##################################### | 100% \n",
      "scikit-learn-0.20.1  | 5.7 MB    | ##################################### | 100% \n",
      "liblapack-3.8.0      | 10 KB     | ##################################### | 100% \n",
      "liblapacke-3.8.0     | 10 KB     | ##################################### | 100% \n",
      "geographiclib-1.50   | 34 KB     | ##################################### | 100% \n",
      "libopenblas-0.3.6    | 7.7 MB    | ##################################### | 100% \n",
      "scipy-1.4.1          | 18.9 MB   | ##################################### | 100% \n",
      "libcblas-3.8.0       | 10 KB     | ##################################### | 100% \n",
      "libblas-3.8.0        | 10 KB     | ##################################### | 100% \n",
      "numpy-1.17.5         | 5.2 MB    | ##################################### | 100% \n",
      "geopy-1.20.0         | 57 KB     | ##################################### | 100% \n",
      "blas-2.11            | 10 KB     | ##################################### | 100% \n",
      "Preparing transaction: done\n",
      "Verifying transaction: done\n",
      "Executing transaction: done\n"
     ]
    }
   ],
   "source": [
    "import json # library to handle JSON files\n",
    "\n",
    "!conda install -c conda-forge geopy --yes # uncomment this line if you haven't completed the Foursquare API lab\n",
    "from geopy.geocoders import Nominatim # convert an address into latitude and longitude values\n",
    "\n",
    "from pandas.io.json import json_normalize # tranform JSON file into a pandas dataframe\n",
    "\n",
    "# Matplotlib and associated plotting modules\n",
    "import matplotlib.cm as cm\n",
    "import matplotlib.colors as colors\n",
    "\n",
    "# import k-means from clustering stage\n",
    "from sklearn.cluster import KMeans\n",
    "\n",
    "#!conda install -c conda-forge folium=0.5.0 --yes # uncomment this line if you haven't completed the Foursquare API lab\n",
    "import folium # map rendering library\n"
   ]
  },
  {
   "cell_type": "code",
   "execution_count": 6,
   "metadata": {},
   "outputs": [],
   "source": [
    "#importing Beautiful soup library\n",
    "from bs4 import BeautifulSoup"
   ]
  },
  {
   "cell_type": "code",
   "execution_count": 7,
   "metadata": {},
   "outputs": [],
   "source": [
    "#importing request\n",
    "import requests"
   ]
  },
  {
   "cell_type": "code",
   "execution_count": 8,
   "metadata": {},
   "outputs": [],
   "source": [
    "#assign wikipage url to a variable\n",
    "wiki_url=\"https://en.wikipedia.org/wiki/List_of_postal_codes_of_Canada:_M\""
   ]
  },
  {
   "cell_type": "code",
   "execution_count": 9,
   "metadata": {},
   "outputs": [],
   "source": [
    "#Get the response from the wikipedia page url and assign it to a variable\n",
    "source= requests.get(wiki_url).text"
   ]
  },
  {
   "cell_type": "code",
   "execution_count": 10,
   "metadata": {},
   "outputs": [],
   "source": [
    "#create one beautiful soup object with the above source page with lxml parser\n",
    "soup=BeautifulSoup(source,'lxml')"
   ]
  },
  {
   "cell_type": "code",
   "execution_count": 11,
   "metadata": {},
   "outputs": [],
   "source": [
    "#print(soup)\n",
    "#commenting above line since there will be no indentation in html page\n",
    "s=soup.prettify()\n",
    "with open(\"Toronto_post.txt\",\"w\") as File1:\n",
    "    for line in s:\n",
    "        File1.write(line)\n"
   ]
  },
  {
   "cell_type": "code",
   "execution_count": 12,
   "metadata": {},
   "outputs": [],
   "source": [
    "full_page=soup.find('body')\n",
    "#print(full_page.prettify())\n",
    "#finding the table tag from the web page using inspect tag\n",
    "post_table=full_page.find('table',class_='wikitable sortable')\n",
    "#print(post_table)"
   ]
  },
  {
   "cell_type": "code",
   "execution_count": 14,
   "metadata": {},
   "outputs": [],
   "source": [
    "#importing csv file\n",
    "import csv"
   ]
  },
  {
   "cell_type": "code",
   "execution_count": 13,
   "metadata": {},
   "outputs": [
    {
     "data": {
      "text/plain": [
       "'M1A'"
      ]
     },
     "execution_count": 13,
     "metadata": {},
     "output_type": "execute_result"
    }
   ],
   "source": [
    "post_table.tbody.find('td').text"
   ]
  },
  {
   "cell_type": "code",
   "execution_count": 44,
   "metadata": {},
   "outputs": [],
   "source": [
    "#for tbl in post_table.tbody:\n",
    "   # csv_writer.writerow(tbl.find_all('td'))"
   ]
  },
  {
   "cell_type": "code",
   "execution_count": 45,
   "metadata": {},
   "outputs": [],
   "source": [
    "#print(post_table)"
   ]
  },
  {
   "cell_type": "code",
   "execution_count": 15,
   "metadata": {},
   "outputs": [],
   "source": [
    "#converting html file with intetantation to raw string html file\n",
    "table1=str(post_table)"
   ]
  },
  {
   "cell_type": "code",
   "execution_count": 17,
   "metadata": {},
   "outputs": [
    {
     "data": {
      "text/plain": [
       "'<table class=\"wikitable sortable\">\\n<tbody><tr>\\n<th>Postcode</th>\\n<th>Borough</th>\\n<th>Neighbourhood\\n</th></tr>\\n<tr>\\n<td>M1A</td>\\n<td>Not assigned</td>\\n<td>Not assigned\\n</td></tr>\\n<tr>\\n<td>M2A</td>\\n<td>Not assigned</td>\\n<td>Not assigned\\n</td></tr>\\n<tr>\\n<td>M3A</td>\\n<td><a href=\"/wiki/North_York\" title=\"North York\">North York</a></td>\\n<td><a href=\"/wiki/Parkwoods\" title=\"Parkwoods\">Parkwoods</a>\\n</td></tr>\\n<tr>\\n<td>M4A</td>\\n<td><a href=\"/wiki/North_York\" title=\"North York\">North York</a></td>\\n<td><a href=\"/wiki/Victoria_Village\" title=\"Victoria Village\">Victoria Village</a>\\n</td></tr>\\n<tr>\\n<td>M5A</td>\\n<td><a href=\"/wiki/Downtown_Toronto\" title=\"Downtown Toronto\">Downtown Toronto</a></td>\\n<td><a href=\"/wiki/Regent_Park\" title=\"Regent Park\">Harbourfront</a>\\n</td></tr>\\n<tr>\\n<td>M6A</td>\\n<td><a href=\"/wiki/North_York\" title=\"North York\">North York</a></td>\\n<td><a href=\"/wiki/Lawrence_Heights\" title=\"Lawrence Heights\">Lawrence Heights</a>\\n</td></tr>\\n<tr>\\n<td>M6A</td>\\n<td><a href=\"/wiki/North_York\" title=\"North York\">North York</a></td>\\n<td><a href=\"/wiki/Lawrence_Manor\" title=\"Lawrence Manor\">Lawrence Manor</a>\\n</td></tr>\\n<tr>\\n<td>M7A</td>\\n<td><a href=\"/wiki/Downtown_Toronto\" title=\"Downtown Toronto\">Downtown Toronto</a></td>\\n<td><a href=\"/wiki/Queen%27s_Park_(Toronto)\" title=\"Queen\\'s Park (Toronto)\">Queen\\'s Park</a>\\n</td></tr>\\n<tr>\\n<td>M8A</td>\\n<td>Not assigned</td>\\n<td>Not assigned\\n</td></tr>\\n<tr>\\n<td>M9A</td>\\n<td><a href=\"/wiki/Queen%27s_Park_(Toronto)\" title=\"Queen\\'s Park (Toronto)\">Queen\\'s Park</a></td>\\n<td>Not assigned\\n</td></tr>\\n<tr>\\n<td>M1B</td>\\n<td><a href=\"/wiki/Scarborough,_Toronto\" title=\"Scarborough, Toronto\">Scarborough</a></td>\\n<td><a href=\"/wiki/Rouge,_Toronto\" title=\"Rouge, Toronto\">Rouge</a>\\n</td></tr>\\n<tr>\\n<td>M1B</td>\\n<td><a href=\"/wiki/Scarborough,_Toronto\" title=\"Scarborough, Toronto\">Scarborough</a></td>\\n<td><a href=\"/wiki/Malvern,_Toronto\" title=\"Malvern, Toronto\">Malvern</a>\\n</td></tr>\\n<tr>\\n<td>M2B</td>\\n<td>Not assigned</td>\\n<td>Not assigned\\n</td></tr>\\n<tr>\\n<td>M3B</td>\\n<td><a href=\"/wiki/North_York\" title=\"North York\">North York</a></td>\\n<td>Don Mills North\\n</td></tr>\\n<tr>\\n<td>M4B</td>\\n<td><a href=\"/wiki/East_York\" title=\"East York\">East York</a></td>\\n<td><a class=\"mw-redirect\" href=\"/wiki/Woodbine_Gardens\" title=\"Woodbine Gardens\">Woodbine Gardens</a>\\n</td></tr>\\n<tr>\\n<td>M4B</td>\\n<td><a href=\"/wiki/East_York\" title=\"East York\">East York</a></td>\\n<td><a class=\"mw-redirect\" href=\"/wiki/Parkview_Hill\" title=\"Parkview Hill\">Parkview Hill</a>\\n</td></tr>\\n<tr>\\n<td>M5B</td>\\n<td><a href=\"/wiki/Downtown_Toronto\" title=\"Downtown Toronto\">Downtown Toronto</a></td>\\n<td>Ryerson\\n</td></tr>\\n<tr>\\n<td>M5B</td>\\n<td><a href=\"/wiki/Downtown_Toronto\" title=\"Downtown Toronto\">Downtown Toronto</a></td>\\n<td>Garden District\\n</td></tr>\\n<tr>\\n<td>M6B</td>\\n<td><a href=\"/wiki/North_York\" title=\"North York\">North York</a></td>\\n<td>Glencairn\\n</td></tr>\\n<tr>\\n<td>M7B</td>\\n<td>Not assigned</td>\\n<td>Not assigned\\n</td></tr>\\n<tr>\\n<td>M8B</td>\\n<td>Not assigned</td>\\n<td>Not assigned\\n</td></tr>\\n<tr>\\n<td>M9B</td>\\n<td><a href=\"/wiki/Etobicoke\" title=\"Etobicoke\">Etobicoke</a></td>\\n<td>Cloverdale\\n</td></tr>\\n<tr>\\n<td>M9B</td>\\n<td><a href=\"/wiki/Etobicoke\" title=\"Etobicoke\">Etobicoke</a></td>\\n<td><a class=\"mw-redirect\" href=\"/wiki/Islington,_Toronto\" title=\"Islington, Toronto\">Islington</a>\\n</td></tr>\\n<tr>\\n<td>M9B</td>\\n<td><a href=\"/wiki/Etobicoke\" title=\"Etobicoke\">Etobicoke</a></td>\\n<td>Martin Grove\\n</td></tr>\\n<tr>\\n<td>M9B</td>\\n<td><a href=\"/wiki/Etobicoke\" title=\"Etobicoke\">Etobicoke</a></td>\\n<td><a href=\"/wiki/Princess_Gardens\" title=\"Princess Gardens\">Princess Gardens</a>\\n</td></tr>\\n<tr>\\n<td>M9B</td>\\n<td><a href=\"/wiki/Etobicoke\" title=\"Etobicoke\">Etobicoke</a></td>\\n<td><a class=\"mw-redirect\" href=\"/wiki/West_Deane_Park\" title=\"West Deane Park\">West Deane Park</a>\\n</td></tr>\\n<tr>\\n<td>M1C</td>\\n<td><a href=\"/wiki/Scarborough,_Toronto\" title=\"Scarborough, Toronto\">Scarborough</a></td>\\n<td><a href=\"/wiki/Highland_Creek_(Toronto)\" title=\"Highland Creek (Toronto)\">Highland Creek</a>\\n</td></tr>\\n<tr>\\n<td>M1C</td>\\n<td><a href=\"/wiki/Scarborough,_Toronto\" title=\"Scarborough, Toronto\">Scarborough</a></td>\\n<td><a class=\"mw-redirect\" href=\"/wiki/Rouge_Hill\" title=\"Rouge Hill\">Rouge Hill</a>\\n</td></tr>\\n<tr>\\n<td>M1C</td>\\n<td><a href=\"/wiki/Scarborough,_Toronto\" title=\"Scarborough, Toronto\">Scarborough</a></td>\\n<td><a href=\"/wiki/Port_Union,_Toronto\" title=\"Port Union, Toronto\">Port Union</a>\\n</td></tr>\\n<tr>\\n<td>M2C</td>\\n<td>Not assigned</td>\\n<td>Not assigned\\n</td></tr>\\n<tr>\\n<td>M3C</td>\\n<td><a href=\"/wiki/North_York\" title=\"North York\">North York</a></td>\\n<td><a href=\"/wiki/Flemingdon_Park\" title=\"Flemingdon Park\">Flemingdon Park</a>\\n</td></tr>\\n<tr>\\n<td>M3C</td>\\n<td><a href=\"/wiki/North_York\" title=\"North York\">North York</a></td>\\n<td>Don Mills South\\n</td></tr>\\n<tr>\\n<td>M4C</td>\\n<td><a href=\"/wiki/East_York\" title=\"East York\">East York</a></td>\\n<td><a class=\"mw-redirect\" href=\"/wiki/Woodbine_Heights\" title=\"Woodbine Heights\">Woodbine Heights</a>\\n</td></tr>\\n<tr>\\n<td>M5C</td>\\n<td><a href=\"/wiki/Downtown_Toronto\" title=\"Downtown Toronto\">Downtown Toronto</a></td>\\n<td><a href=\"/wiki/St._James_Town\" title=\"St. James Town\">St. James Town</a>\\n</td></tr>\\n<tr>\\n<td>M6C</td>\\n<td>York</td>\\n<td><a href=\"/wiki/Humewood-Cedarvale\" title=\"Humewood-Cedarvale\">Humewood-Cedarvale</a>\\n</td></tr>\\n<tr>\\n<td>M7C</td>\\n<td>Not assigned</td>\\n<td>Not assigned\\n</td></tr>\\n<tr>\\n<td>M8C</td>\\n<td>Not assigned</td>\\n<td>Not assigned\\n</td></tr>\\n<tr>\\n<td>M9C</td>\\n<td><a href=\"/wiki/Etobicoke\" title=\"Etobicoke\">Etobicoke</a></td>\\n<td>Bloordale Gardens\\n</td></tr>\\n<tr>\\n<td>M9C</td>\\n<td><a href=\"/wiki/Etobicoke\" title=\"Etobicoke\">Etobicoke</a></td>\\n<td>Eringate\\n</td></tr>\\n<tr>\\n<td>M9C</td>\\n<td><a href=\"/wiki/Etobicoke\" title=\"Etobicoke\">Etobicoke</a></td>\\n<td><a href=\"/wiki/Markland_Wood\" title=\"Markland Wood\">Markland Wood</a>\\n</td></tr>\\n<tr>\\n<td>M9C</td>\\n<td><a href=\"/wiki/Etobicoke\" title=\"Etobicoke\">Etobicoke</a></td>\\n<td>Old Burnhamthorpe\\n</td></tr>\\n<tr>\\n<td>M1E</td>\\n<td><a href=\"/wiki/Scarborough,_Toronto\" title=\"Scarborough, Toronto\">Scarborough</a></td>\\n<td>Guildwood\\n</td></tr>\\n<tr>\\n<td>M1E</td>\\n<td><a href=\"/wiki/Scarborough,_Toronto\" title=\"Scarborough, Toronto\">Scarborough</a></td>\\n<td><a href=\"/wiki/Morningside,_Toronto\" title=\"Morningside, Toronto\">Morningside</a>\\n</td></tr>\\n<tr>\\n<td>M1E</td>\\n<td><a href=\"/wiki/Scarborough,_Toronto\" title=\"Scarborough, Toronto\">Scarborough</a></td>\\n<td><a href=\"/wiki/West_Hill,_Toronto\" title=\"West Hill, Toronto\">West Hill</a>\\n</td></tr>\\n<tr>\\n<td>M2E</td>\\n<td>Not assigned</td>\\n<td>Not assigned\\n</td></tr>\\n<tr>\\n<td>M3E</td>\\n<td>Not assigned</td>\\n<td>Not assigned\\n</td></tr>\\n<tr>\\n<td>M4E</td>\\n<td><a href=\"/wiki/East_Toronto\" title=\"East Toronto\">East Toronto</a></td>\\n<td><a href=\"/wiki/The_Beaches\" title=\"The Beaches\">The Beaches</a>\\n</td></tr>\\n<tr>\\n<td>M5E</td>\\n<td><a href=\"/wiki/Downtown_Toronto\" title=\"Downtown Toronto\">Downtown Toronto</a></td>\\n<td><a href=\"/wiki/Berczy_Park\" title=\"Berczy Park\">Berczy Park</a>\\n</td></tr>\\n<tr>\\n<td>M6E</td>\\n<td>York</td>\\n<td>Caledonia-Fairbanks\\n</td></tr>\\n<tr>\\n<td>M7E</td>\\n<td>Not assigned</td>\\n<td>Not assigned\\n</td></tr>\\n<tr>\\n<td>M8E</td>\\n<td>Not assigned</td>\\n<td>Not assigned\\n</td></tr>\\n<tr>\\n<td>M9E</td>\\n<td>Not assigned</td>\\n<td>Not assigned\\n</td></tr>\\n<tr>\\n<td>M1G</td>\\n<td><a href=\"/wiki/Scarborough,_Toronto\" title=\"Scarborough, Toronto\">Scarborough</a></td>\\n<td><a href=\"/wiki/Woburn,_Toronto\" title=\"Woburn, Toronto\">Woburn</a>\\n</td></tr>\\n<tr>\\n<td>M2G</td>\\n<td>Not assigned</td>\\n<td>Not assigned\\n</td></tr>\\n<tr>\\n<td>M3G</td>\\n<td>Not assigned</td>\\n<td>Not assigned\\n</td></tr>\\n<tr>\\n<td>M4G</td>\\n<td><a href=\"/wiki/East_York\" title=\"East York\">East York</a></td>\\n<td><a href=\"/wiki/Leaside\" title=\"Leaside\">Leaside</a>\\n</td></tr>\\n<tr>\\n<td>M5G</td>\\n<td><a href=\"/wiki/Downtown_Toronto\" title=\"Downtown Toronto\">Downtown Toronto</a></td>\\n<td>Central Bay Street\\n</td></tr>\\n<tr>\\n<td>M6G</td>\\n<td><a href=\"/wiki/Downtown_Toronto\" title=\"Downtown Toronto\">Downtown Toronto</a></td>\\n<td>Christie\\n</td></tr>\\n<tr>\\n<td>M7G</td>\\n<td>Not assigned</td>\\n<td>Not assigned\\n</td></tr>\\n<tr>\\n<td>M8G</td>\\n<td>Not assigned</td>\\n<td>Not assigned\\n</td></tr>\\n<tr>\\n<td>M9G</td>\\n<td>Not assigned</td>\\n<td>Not assigned\\n</td></tr>\\n<tr>\\n<td>M1H</td>\\n<td><a href=\"/wiki/Scarborough,_Toronto\" title=\"Scarborough, Toronto\">Scarborough</a></td>\\n<td>Cedarbrae\\n</td></tr>\\n<tr>\\n<td>M2H</td>\\n<td><a href=\"/wiki/North_York\" title=\"North York\">North York</a></td>\\n<td><a href=\"/wiki/Hillcrest_Village\" title=\"Hillcrest Village\">Hillcrest Village</a>\\n</td></tr>\\n<tr>\\n<td>M3H</td>\\n<td><a href=\"/wiki/North_York\" title=\"North York\">North York</a></td>\\n<td><a href=\"/wiki/Bathurst_Manor\" title=\"Bathurst Manor\">Bathurst Manor</a>\\n</td></tr>\\n<tr>\\n<td>M3H</td>\\n<td><a href=\"/wiki/North_York\" title=\"North York\">North York</a></td>\\n<td>Downsview North\\n</td></tr>\\n<tr>\\n<td>M3H</td>\\n<td><a href=\"/wiki/North_York\" title=\"North York\">North York</a></td>\\n<td><a class=\"mw-redirect\" href=\"/wiki/Wilson_Heights,_Toronto\" title=\"Wilson Heights, Toronto\">Wilson Heights</a>\\n</td></tr>\\n<tr>\\n<td>M4H</td>\\n<td><a href=\"/wiki/East_York\" title=\"East York\">East York</a></td>\\n<td><a href=\"/wiki/Thorncliffe_Park\" title=\"Thorncliffe Park\">Thorncliffe Park</a>\\n</td></tr>\\n<tr>\\n<td>M5H</td>\\n<td><a href=\"/wiki/Downtown_Toronto\" title=\"Downtown Toronto\">Downtown Toronto</a></td>\\n<td>Adelaide\\n</td></tr>\\n<tr>\\n<td>M5H</td>\\n<td><a href=\"/wiki/Downtown_Toronto\" title=\"Downtown Toronto\">Downtown Toronto</a></td>\\n<td>King\\n</td></tr>\\n<tr>\\n<td>M5H</td>\\n<td><a href=\"/wiki/Downtown_Toronto\" title=\"Downtown Toronto\">Downtown Toronto</a></td>\\n<td>Richmond\\n</td></tr>\\n<tr>\\n<td>M6H</td>\\n<td><a href=\"/wiki/West_Toronto\" title=\"West Toronto\">West Toronto</a></td>\\n<td><a class=\"mw-redirect\" href=\"/wiki/Dovercourt_Village\" title=\"Dovercourt Village\">Dovercourt Village</a>\\n</td></tr>\\n<tr>\\n<td>M6H</td>\\n<td><a href=\"/wiki/West_Toronto\" title=\"West Toronto\">West Toronto</a></td>\\n<td>Dufferin\\n</td></tr>\\n<tr>\\n<td>M7H</td>\\n<td>Not assigned</td>\\n<td>Not assigned\\n</td></tr>\\n<tr>\\n<td>M8H</td>\\n<td>Not assigned</td>\\n<td>Not assigned\\n</td></tr>\\n<tr>\\n<td>M9H</td>\\n<td>Not assigned</td>\\n<td>Not assigned\\n</td></tr>\\n<tr>\\n<td>M1J</td>\\n<td><a href=\"/wiki/Scarborough,_Toronto\" title=\"Scarborough, Toronto\">Scarborough</a></td>\\n<td><a href=\"/wiki/Scarborough_Village\" title=\"Scarborough Village\">Scarborough Village</a>\\n</td></tr>\\n<tr>\\n<td>M2J</td>\\n<td><a href=\"/wiki/North_York\" title=\"North York\">North York</a></td>\\n<td>Fairview\\n</td></tr>\\n<tr>\\n<td>M2J</td>\\n<td><a href=\"/wiki/North_York\" title=\"North York\">North York</a></td>\\n<td><a href=\"/wiki/Henry_Farm\" title=\"Henry Farm\">Henry Farm</a>\\n</td></tr>\\n<tr>\\n<td>M2J</td>\\n<td><a href=\"/wiki/North_York\" title=\"North York\">North York</a></td>\\n<td>Oriole\\n</td></tr>\\n<tr>\\n<td>M3J</td>\\n<td><a href=\"/wiki/North_York\" title=\"North York\">North York</a></td>\\n<td><a class=\"mw-redirect\" href=\"/wiki/Northwood_Park\" title=\"Northwood Park\">Northwood Park</a>\\n</td></tr>\\n<tr>\\n<td>M3J</td>\\n<td><a href=\"/wiki/North_York\" title=\"North York\">North York</a></td>\\n<td><a href=\"/wiki/York_University\" title=\"York University\">York University</a>\\n</td></tr>\\n<tr>\\n<td>M4J</td>\\n<td><a href=\"/wiki/East_York\" title=\"East York\">East York</a></td>\\n<td><a href=\"/wiki/East_Toronto\" title=\"East Toronto\">East Toronto</a>\\n</td></tr>\\n<tr>\\n<td>M5J</td>\\n<td><a href=\"/wiki/Downtown_Toronto\" title=\"Downtown Toronto\">Downtown Toronto</a></td>\\n<td>Harbourfront East\\n</td></tr>\\n<tr>\\n<td>M5J</td>\\n<td><a href=\"/wiki/Downtown_Toronto\" title=\"Downtown Toronto\">Downtown Toronto</a></td>\\n<td><a href=\"/wiki/Toronto_Islands\" title=\"Toronto Islands\">Toronto Islands</a>\\n</td></tr>\\n<tr>\\n<td>M5J</td>\\n<td><a href=\"/wiki/Downtown_Toronto\" title=\"Downtown Toronto\">Downtown Toronto</a></td>\\n<td><a href=\"/wiki/Union_Station_(Toronto)\" title=\"Union Station (Toronto)\">Union Station</a>\\n</td></tr>\\n<tr>\\n<td>M6J</td>\\n<td><a href=\"/wiki/West_Toronto\" title=\"West Toronto\">West Toronto</a></td>\\n<td><a href=\"/wiki/Little_Portugal,_Toronto\" title=\"Little Portugal, Toronto\">Little Portugal</a>\\n</td></tr>\\n<tr>\\n<td>M6J</td>\\n<td><a href=\"/wiki/West_Toronto\" title=\"West Toronto\">West Toronto</a></td>\\n<td><a class=\"mw-redirect\" href=\"/wiki/Trinity%E2%80%93Bellwoods\" title=\"Trinity–Bellwoods\">Trinity</a>\\n</td></tr>\\n<tr>\\n<td>M7J</td>\\n<td>Not assigned</td>\\n<td>Not assigned\\n</td></tr>\\n<tr>\\n<td>M8J</td>\\n<td>Not assigned</td>\\n<td>Not assigned\\n</td></tr>\\n<tr>\\n<td>M9J</td>\\n<td>Not assigned</td>\\n<td>Not assigned\\n</td></tr>\\n<tr>\\n<td>M1K</td>\\n<td><a href=\"/wiki/Scarborough,_Toronto\" title=\"Scarborough, Toronto\">Scarborough</a></td>\\n<td>East Birchmount Park\\n</td></tr>\\n<tr>\\n<td>M1K</td>\\n<td><a href=\"/wiki/Scarborough,_Toronto\" title=\"Scarborough, Toronto\">Scarborough</a></td>\\n<td><a href=\"/wiki/Ionview\" title=\"Ionview\">Ionview</a>\\n</td></tr>\\n<tr>\\n<td>M1K</td>\\n<td><a href=\"/wiki/Scarborough,_Toronto\" title=\"Scarborough, Toronto\">Scarborough</a></td>\\n<td><a class=\"mw-redirect\" href=\"/wiki/Kennedy_Park,_Toronto\" title=\"Kennedy Park, Toronto\">Kennedy Park</a>\\n</td></tr>\\n<tr>\\n<td>M2K</td>\\n<td><a href=\"/wiki/North_York\" title=\"North York\">North York</a></td>\\n<td><a href=\"/wiki/Bayview_Village\" title=\"Bayview Village\">Bayview Village</a>\\n</td></tr>\\n<tr>\\n<td>M3K</td>\\n<td><a href=\"/wiki/North_York\" title=\"North York\">North York</a></td>\\n<td><a href=\"/wiki/CFB_Toronto\" title=\"CFB Toronto\">CFB Toronto</a>\\n</td></tr>\\n<tr>\\n<td>M3K</td>\\n<td><a href=\"/wiki/North_York\" title=\"North York\">North York</a></td>\\n<td>Downsview East\\n</td></tr>\\n<tr>\\n<td>M4K</td>\\n<td><a href=\"/wiki/East_Toronto\" title=\"East Toronto\">East Toronto</a></td>\\n<td>The Danforth West\\n</td></tr>\\n<tr>\\n<td>M4K</td>\\n<td><a href=\"/wiki/East_Toronto\" title=\"East Toronto\">East Toronto</a></td>\\n<td><a href=\"/wiki/Riverdale,_Toronto\" title=\"Riverdale, Toronto\">Riverdale</a>\\n</td></tr>\\n<tr>\\n<td>M5K</td>\\n<td><a href=\"/wiki/Downtown_Toronto\" title=\"Downtown Toronto\">Downtown Toronto</a></td>\\n<td><a href=\"/wiki/Design_Exchange\" title=\"Design Exchange\">Design Exchange</a>\\n</td></tr>\\n<tr>\\n<td>M5K</td>\\n<td><a href=\"/wiki/Downtown_Toronto\" title=\"Downtown Toronto\">Downtown Toronto</a></td>\\n<td><a class=\"mw-redirect\" href=\"/wiki/Toronto_Dominion_Centre\" title=\"Toronto Dominion Centre\">Toronto Dominion Centre</a>\\n</td></tr>\\n<tr>\\n<td>M6K</td>\\n<td><a href=\"/wiki/West_Toronto\" title=\"West Toronto\">West Toronto</a></td>\\n<td>Brockton\\n</td></tr>\\n<tr>\\n<td>M6K</td>\\n<td><a href=\"/wiki/West_Toronto\" title=\"West Toronto\">West Toronto</a></td>\\n<td><a href=\"/wiki/Exhibition_Place\" title=\"Exhibition Place\">Exhibition Place</a>\\n</td></tr>\\n<tr>\\n<td>M6K</td>\\n<td><a href=\"/wiki/West_Toronto\" title=\"West Toronto\">West Toronto</a></td>\\n<td><a class=\"mw-redirect\" href=\"/wiki/Parkdale_Village\" title=\"Parkdale Village\">Parkdale Village</a>\\n</td></tr>\\n<tr>\\n<td>M7K</td>\\n<td>Not assigned</td>\\n<td>Not assigned\\n</td></tr>\\n<tr>\\n<td>M8K</td>\\n<td>Not assigned</td>\\n<td>Not assigned\\n</td></tr>\\n<tr>\\n<td>M9K</td>\\n<td>Not assigned</td>\\n<td>Not assigned\\n</td></tr>\\n<tr>\\n<td>M1L</td>\\n<td><a href=\"/wiki/Scarborough,_Toronto\" title=\"Scarborough, Toronto\">Scarborough</a></td>\\n<td><a href=\"/wiki/Clairlea\" title=\"Clairlea\">Clairlea</a>\\n</td></tr>\\n<tr>\\n<td>M1L</td>\\n<td><a href=\"/wiki/Scarborough,_Toronto\" title=\"Scarborough, Toronto\">Scarborough</a></td>\\n<td><a href=\"/wiki/Golden_Mile,_Toronto\" title=\"Golden Mile, Toronto\">Golden Mile</a>\\n</td></tr>\\n<tr>\\n<td>M1L</td>\\n<td><a href=\"/wiki/Scarborough,_Toronto\" title=\"Scarborough, Toronto\">Scarborough</a></td>\\n<td><a href=\"/wiki/Oakridge,_Toronto\" title=\"Oakridge, Toronto\">Oakridge</a>\\n</td></tr>\\n<tr>\\n<td>M2L</td>\\n<td><a href=\"/wiki/North_York\" title=\"North York\">North York</a></td>\\n<td>Silver Hills\\n</td></tr>\\n<tr>\\n<td>M2L</td>\\n<td><a href=\"/wiki/North_York\" title=\"North York\">North York</a></td>\\n<td><a href=\"/wiki/York_Mills\" title=\"York Mills\">York Mills</a>\\n</td></tr>\\n<tr>\\n<td>M3L</td>\\n<td><a href=\"/wiki/North_York\" title=\"North York\">North York</a></td>\\n<td><a href=\"/wiki/Downsview\" title=\"Downsview\">Downsview West</a>\\n</td></tr>\\n<tr>\\n<td>M4L</td>\\n<td><a href=\"/wiki/East_Toronto\" title=\"East Toronto\">East Toronto</a></td>\\n<td>The Beaches West\\n</td></tr>\\n<tr>\\n<td>M4L</td>\\n<td><a href=\"/wiki/East_Toronto\" title=\"East Toronto\">East Toronto</a></td>\\n<td><a class=\"mw-redirect\" href=\"/wiki/India_Bazaar\" title=\"India Bazaar\">India Bazaar</a>\\n</td></tr>\\n<tr>\\n<td>M5L</td>\\n<td><a href=\"/wiki/Downtown_Toronto\" title=\"Downtown Toronto\">Downtown Toronto</a></td>\\n<td><a href=\"/wiki/Commerce_Court\" title=\"Commerce Court\">Commerce Court</a>\\n</td></tr>\\n<tr>\\n<td>M5L</td>\\n<td><a href=\"/wiki/Downtown_Toronto\" title=\"Downtown Toronto\">Downtown Toronto</a></td>\\n<td>Victoria Hotel\\n</td></tr>\\n<tr>\\n<td>M6L</td>\\n<td><a href=\"/wiki/North_York\" title=\"North York\">North York</a></td>\\n<td><a class=\"mw-redirect\" href=\"/wiki/Downsview,_Toronto\" title=\"Downsview, Toronto\">Downsview</a>\\n</td></tr>\\n<tr>\\n<td>M6L</td>\\n<td><a href=\"/wiki/North_York\" title=\"North York\">North York</a></td>\\n<td>North Park\\n</td></tr>\\n<tr>\\n<td>M6L</td>\\n<td><a href=\"/wiki/North_York\" title=\"North York\">North York</a></td>\\n<td>Upwood Park\\n</td></tr>\\n<tr>\\n<td>M7L</td>\\n<td>Not assigned</td>\\n<td>Not assigned\\n</td></tr>\\n<tr>\\n<td>M8L</td>\\n<td>Not assigned</td>\\n<td>Not assigned\\n</td></tr>\\n<tr>\\n<td>M9L</td>\\n<td><a href=\"/wiki/North_York\" title=\"North York\">North York</a></td>\\n<td><a href=\"/wiki/Humber_Summit\" title=\"Humber Summit\">Humber Summit</a>\\n</td></tr>\\n<tr>\\n<td>M1M</td>\\n<td><a href=\"/wiki/Scarborough,_Toronto\" title=\"Scarborough, Toronto\">Scarborough</a></td>\\n<td><a href=\"/wiki/Cliffcrest\" title=\"Cliffcrest\">Cliffcrest</a>\\n</td></tr>\\n<tr>\\n<td>M1M</td>\\n<td><a href=\"/wiki/Scarborough,_Toronto\" title=\"Scarborough, Toronto\">Scarborough</a></td>\\n<td><a href=\"/wiki/Cliffside,_Toronto\" title=\"Cliffside, Toronto\">Cliffside</a>\\n</td></tr>\\n<tr>\\n<td>M1M</td>\\n<td><a href=\"/wiki/Scarborough,_Toronto\" title=\"Scarborough, Toronto\">Scarborough</a></td>\\n<td>Scarborough Village West\\n</td></tr>\\n<tr>\\n<td>M2M</td>\\n<td><a href=\"/wiki/North_York\" title=\"North York\">North York</a></td>\\n<td><a href=\"/wiki/Newtonbrook\" title=\"Newtonbrook\">Newtonbrook</a>\\n</td></tr>\\n<tr>\\n<td>M2M</td>\\n<td><a href=\"/wiki/North_York\" title=\"North York\">North York</a></td>\\n<td><a href=\"/wiki/Willowdale,_Toronto\" title=\"Willowdale, Toronto\">Willowdale</a>\\n</td></tr>\\n<tr>\\n<td>M3M</td>\\n<td><a href=\"/wiki/North_York\" title=\"North York\">North York</a></td>\\n<td>Downsview Central\\n</td></tr>\\n<tr>\\n<td>M4M</td>\\n<td><a href=\"/wiki/East_Toronto\" title=\"East Toronto\">East Toronto</a></td>\\n<td>Studio District\\n</td></tr>\\n<tr>\\n<td>M5M</td>\\n<td><a href=\"/wiki/North_York\" title=\"North York\">North York</a></td>\\n<td><a href=\"/wiki/Bedford_Park,_Toronto\" title=\"Bedford Park, Toronto\">Bedford Park</a>\\n</td></tr>\\n<tr>\\n<td>M5M</td>\\n<td><a href=\"/wiki/North_York\" title=\"North York\">North York</a></td>\\n<td>Lawrence Manor East\\n</td></tr>\\n<tr>\\n<td>M6M</td>\\n<td><a href=\"/wiki/York,_Toronto\" title=\"York, Toronto\">York</a></td>\\n<td>Del Ray\\n</td></tr>\\n<tr>\\n<td>M6M</td>\\n<td><a href=\"/wiki/York,_Toronto\" title=\"York, Toronto\">York</a></td>\\n<td><a class=\"mw-redirect\" href=\"/wiki/Keelesdale\" title=\"Keelesdale\">Keelesdale</a>\\n</td></tr>\\n<tr>\\n<td>M6M</td>\\n<td><a href=\"/wiki/York,_Toronto\" title=\"York, Toronto\">York</a></td>\\n<td><a href=\"/wiki/Mount_Dennis\" title=\"Mount Dennis\">Mount Dennis</a>\\n</td></tr>\\n<tr>\\n<td>M6M</td>\\n<td><a href=\"/wiki/York,_Toronto\" title=\"York, Toronto\">York</a></td>\\n<td><a href=\"/wiki/Silverthorn,_Toronto\" title=\"Silverthorn, Toronto\">Silverthorn</a>\\n</td></tr>\\n<tr>\\n<td>M7M</td>\\n<td>Not assigned</td>\\n<td>Not assigned\\n</td></tr>\\n<tr>\\n<td>M8M</td>\\n<td>Not assigned</td>\\n<td>Not assigned\\n</td></tr>\\n<tr>\\n<td>M9M</td>\\n<td><a href=\"/wiki/North_York\" title=\"North York\">North York</a></td>\\n<td><a class=\"mw-redirect\" href=\"/wiki/Emery,_Toronto\" title=\"Emery, Toronto\">Emery</a>\\n</td></tr>\\n<tr>\\n<td>M9M</td>\\n<td><a href=\"/wiki/North_York\" title=\"North York\">North York</a></td>\\n<td><a class=\"mw-redirect\" href=\"/wiki/Humberlea\" title=\"Humberlea\">Humberlea</a>\\n</td></tr>\\n<tr>\\n<td>M1N</td>\\n<td><a href=\"/wiki/Scarborough,_Toronto\" title=\"Scarborough, Toronto\">Scarborough</a></td>\\n<td><a href=\"/wiki/Birch_Cliff\" title=\"Birch Cliff\">Birch Cliff</a>\\n</td></tr>\\n<tr>\\n<td>M1N</td>\\n<td><a href=\"/wiki/Scarborough,_Toronto\" title=\"Scarborough, Toronto\">Scarborough</a></td>\\n<td>Cliffside West\\n</td></tr>\\n<tr>\\n<td>M2N</td>\\n<td><a href=\"/wiki/North_York\" title=\"North York\">North York</a></td>\\n<td>Willowdale South\\n</td></tr>\\n<tr>\\n<td>M3N</td>\\n<td><a href=\"/wiki/North_York\" title=\"North York\">North York</a></td>\\n<td>Downsview Northwest\\n</td></tr>\\n<tr>\\n<td>M4N</td>\\n<td><a class=\"mw-redirect\" href=\"/wiki/Central_Toronto\" title=\"Central Toronto\">Central Toronto</a></td>\\n<td><a href=\"/wiki/Lawrence_Park,_Toronto\" title=\"Lawrence Park, Toronto\">Lawrence Park</a>\\n</td></tr>\\n<tr>\\n<td>M5N</td>\\n<td><a class=\"mw-redirect\" href=\"/wiki/Central_Toronto\" title=\"Central Toronto\">Central Toronto</a></td>\\n<td>Roselawn\\n</td></tr>\\n<tr>\\n<td>M6N</td>\\n<td><a href=\"/wiki/York,_Toronto\" title=\"York, Toronto\">York</a></td>\\n<td>The Junction North\\n</td></tr>\\n<tr>\\n<td>M6N</td>\\n<td><a href=\"/wiki/York,_Toronto\" title=\"York, Toronto\">York</a></td>\\n<td>Runnymede\\n</td></tr>\\n<tr>\\n<td>M7N</td>\\n<td>Not assigned</td>\\n<td>Not assigned\\n</td></tr>\\n<tr>\\n<td>M8N</td>\\n<td>Not assigned</td>\\n<td>Not assigned\\n</td></tr>\\n<tr>\\n<td>M9N</td>\\n<td><a href=\"/wiki/York,_Toronto\" title=\"York, Toronto\">York</a></td>\\n<td><a href=\"/wiki/Weston,_Toronto\" title=\"Weston, Toronto\">Weston</a>\\n</td></tr>\\n<tr>\\n<td>M1P</td>\\n<td><a href=\"/wiki/Scarborough,_Toronto\" title=\"Scarborough, Toronto\">Scarborough</a></td>\\n<td><a href=\"/wiki/Dorset_Park\" title=\"Dorset Park\">Dorset Park</a>\\n</td></tr>\\n<tr>\\n<td>M1P</td>\\n<td><a href=\"/wiki/Scarborough,_Toronto\" title=\"Scarborough, Toronto\">Scarborough</a></td>\\n<td><a href=\"/wiki/Scarborough_Town_Centre\" title=\"Scarborough Town Centre\">Scarborough Town Centre</a>\\n</td></tr>\\n<tr>\\n<td>M1P</td>\\n<td><a href=\"/wiki/Scarborough,_Toronto\" title=\"Scarborough, Toronto\">Scarborough</a></td>\\n<td><a class=\"mw-redirect\" href=\"/wiki/Wexford_Heights\" title=\"Wexford Heights\">Wexford Heights</a>\\n</td></tr>\\n<tr>\\n<td>M2P</td>\\n<td><a href=\"/wiki/North_York\" title=\"North York\">North York</a></td>\\n<td>York Mills West\\n</td></tr>\\n<tr>\\n<td>M3P</td>\\n<td>Not assigned</td>\\n<td>Not assigned\\n</td></tr>\\n<tr>\\n<td>M4P</td>\\n<td><a class=\"mw-redirect\" href=\"/wiki/Central_Toronto\" title=\"Central Toronto\">Central Toronto</a></td>\\n<td>Davisville North\\n</td></tr>\\n<tr>\\n<td>M5P</td>\\n<td><a class=\"mw-redirect\" href=\"/wiki/Central_Toronto\" title=\"Central Toronto\">Central Toronto</a></td>\\n<td><a class=\"mw-redirect\" href=\"/wiki/Forest_Hill_North\" title=\"Forest Hill North\">Forest Hill North</a>\\n</td></tr>\\n<tr>\\n<td>M5P</td>\\n<td><a class=\"mw-redirect\" href=\"/wiki/Central_Toronto\" title=\"Central Toronto\">Central Toronto</a></td>\\n<td>Forest Hill West\\n</td></tr>\\n<tr>\\n<td>M6P</td>\\n<td><a href=\"/wiki/West_Toronto\" title=\"West Toronto\">West Toronto</a></td>\\n<td><a href=\"/wiki/High_Park\" title=\"High Park\">High Park</a>\\n</td></tr>\\n<tr>\\n<td>M6P</td>\\n<td><a href=\"/wiki/West_Toronto\" title=\"West Toronto\">West Toronto</a></td>\\n<td>The Junction South\\n</td></tr>\\n<tr>\\n<td>M7P</td>\\n<td>Not assigned</td>\\n<td>Not assigned\\n</td></tr>\\n<tr>\\n<td>M8P</td>\\n<td>Not assigned</td>\\n<td>Not assigned\\n</td></tr>\\n<tr>\\n<td>M9P</td>\\n<td><a href=\"/wiki/Etobicoke\" title=\"Etobicoke\">Etobicoke</a></td>\\n<td>Westmount\\n</td></tr>\\n<tr>\\n<td>M1R</td>\\n<td><a href=\"/wiki/Scarborough,_Toronto\" title=\"Scarborough, Toronto\">Scarborough</a></td>\\n<td><a href=\"/wiki/Maryvale,_Toronto\" title=\"Maryvale, Toronto\">Maryvale</a>\\n</td></tr>\\n<tr>\\n<td>M1R</td>\\n<td><a href=\"/wiki/Scarborough,_Toronto\" title=\"Scarborough, Toronto\">Scarborough</a></td>\\n<td><a href=\"/wiki/Wexford,_Toronto\" title=\"Wexford, Toronto\">Wexford</a>\\n</td></tr>\\n<tr>\\n<td>M2R</td>\\n<td><a href=\"/wiki/North_York\" title=\"North York\">North York</a></td>\\n<td><a class=\"mw-redirect\" href=\"/wiki/Willowdale_West\" title=\"Willowdale West\">Willowdale West</a>\\n</td></tr>\\n<tr>\\n<td>M3R</td>\\n<td>Not assigned</td>\\n<td>Not assigned\\n</td></tr>\\n<tr>\\n<td>M4R</td>\\n<td><a class=\"mw-redirect\" href=\"/wiki/Central_Toronto\" title=\"Central Toronto\">Central Toronto</a></td>\\n<td>North Toronto West\\n</td></tr>\\n<tr>\\n<td>M5R</td>\\n<td><a class=\"mw-redirect\" href=\"/wiki/Central_Toronto\" title=\"Central Toronto\">Central Toronto</a></td>\\n<td><a href=\"/wiki/The_Annex\" title=\"The Annex\">The Annex</a>\\n</td></tr>\\n<tr>\\n<td>M5R</td>\\n<td><a class=\"mw-redirect\" href=\"/wiki/Central_Toronto\" title=\"Central Toronto\">Central Toronto</a></td>\\n<td>North Midtown\\n</td></tr>\\n<tr>\\n<td>M5R</td>\\n<td><a class=\"mw-redirect\" href=\"/wiki/Central_Toronto\" title=\"Central Toronto\">Central Toronto</a></td>\\n<td><a href=\"/wiki/Yorkville,_Toronto\" title=\"Yorkville, Toronto\">Yorkville</a>\\n</td></tr>\\n<tr>\\n<td>M6R</td>\\n<td><a href=\"/wiki/West_Toronto\" title=\"West Toronto\">West Toronto</a></td>\\n<td><a href=\"/wiki/Parkdale,_Toronto\" title=\"Parkdale, Toronto\">Parkdale</a>\\n</td></tr>\\n<tr>\\n<td>M6R</td>\\n<td><a href=\"/wiki/West_Toronto\" title=\"West Toronto\">West Toronto</a></td>\\n<td><a href=\"/wiki/Roncesvalles,_Toronto\" title=\"Roncesvalles, Toronto\">Roncesvalles</a>\\n</td></tr>\\n<tr>\\n<td>M7R</td>\\n<td>Mississauga</td>\\n<td>Canada Post Gateway Processing Centre\\n</td></tr>\\n<tr>\\n<td>M8R</td>\\n<td>Not assigned</td>\\n<td>Not assigned\\n</td></tr>\\n<tr>\\n<td>M9R</td>\\n<td><a href=\"/wiki/Etobicoke\" title=\"Etobicoke\">Etobicoke</a></td>\\n<td><a href=\"/wiki/Kingsview_Village\" title=\"Kingsview Village\">Kingsview Village</a>\\n</td></tr>\\n<tr>\\n<td>M9R</td>\\n<td><a href=\"/wiki/Etobicoke\" title=\"Etobicoke\">Etobicoke</a></td>\\n<td>Martin Grove Gardens\\n</td></tr>\\n<tr>\\n<td>M9R</td>\\n<td><a href=\"/wiki/Etobicoke\" title=\"Etobicoke\">Etobicoke</a></td>\\n<td>Richview Gardens\\n</td></tr>\\n<tr>\\n<td>M9R</td>\\n<td><a href=\"/wiki/Etobicoke\" title=\"Etobicoke\">Etobicoke</a></td>\\n<td>St. Phillips\\n</td></tr>\\n<tr>\\n<td>M1S</td>\\n<td><a href=\"/wiki/Scarborough,_Toronto\" title=\"Scarborough, Toronto\">Scarborough</a></td>\\n<td><a href=\"/wiki/Agincourt,_Toronto\" title=\"Agincourt, Toronto\">Agincourt</a>\\n</td></tr>\\n<tr>\\n<td>M2S</td>\\n<td>Not assigned</td>\\n<td>Not assigned\\n</td></tr>\\n<tr>\\n<td>M3S</td>\\n<td>Not assigned</td>\\n<td>Not assigned\\n</td></tr>\\n<tr>\\n<td>M4S</td>\\n<td><a class=\"mw-redirect\" href=\"/wiki/Central_Toronto\" title=\"Central Toronto\">Central Toronto</a></td>\\n<td>Davisville\\n</td></tr>\\n<tr>\\n<td>M5S</td>\\n<td><a href=\"/wiki/Downtown_Toronto\" title=\"Downtown Toronto\">Downtown Toronto</a></td>\\n<td>Harbord\\n</td></tr>\\n<tr>\\n<td>M5S</td>\\n<td><a href=\"/wiki/Downtown_Toronto\" title=\"Downtown Toronto\">Downtown Toronto</a></td>\\n<td><a href=\"/wiki/University_of_Toronto\" title=\"University of Toronto\">University of Toronto</a>\\n</td></tr>\\n<tr>\\n<td>M6S</td>\\n<td><a href=\"/wiki/West_Toronto\" title=\"West Toronto\">West Toronto</a></td>\\n<td><a href=\"/wiki/Runnymede,_Toronto\" title=\"Runnymede, Toronto\">Runnymede</a>\\n</td></tr>\\n<tr>\\n<td>M6S</td>\\n<td><a href=\"/wiki/West_Toronto\" title=\"West Toronto\">West Toronto</a></td>\\n<td><a href=\"/wiki/Swansea,_Toronto\" title=\"Swansea, Toronto\">Swansea</a>\\n</td></tr>\\n<tr>\\n<td>M7S</td>\\n<td>Not assigned</td>\\n<td>Not assigned\\n</td></tr>\\n<tr>\\n<td>M8S</td>\\n<td>Not assigned</td>\\n<td>Not assigned\\n</td></tr>\\n<tr>\\n<td>M9S</td>\\n<td>Not assigned</td>\\n<td>Not assigned\\n</td></tr>\\n<tr>\\n<td>M1T</td>\\n<td><a href=\"/wiki/Scarborough,_Toronto\" title=\"Scarborough, Toronto\">Scarborough</a></td>\\n<td>Clarks Corners\\n</td></tr>\\n<tr>\\n<td>M1T</td>\\n<td><a href=\"/wiki/Scarborough,_Toronto\" title=\"Scarborough, Toronto\">Scarborough</a></td>\\n<td>Sullivan\\n</td></tr>\\n<tr>\\n<td>M1T</td>\\n<td><a href=\"/wiki/Scarborough,_Toronto\" title=\"Scarborough, Toronto\">Scarborough</a></td>\\n<td><a class=\"mw-redirect\" href=\"/wiki/Tam_O%27Shanter_%E2%80%93_Sullivan\" title=\"Tam O\\'Shanter – Sullivan\">Tam O\\'Shanter</a>\\n</td></tr>\\n<tr>\\n<td>M2T</td>\\n<td>Not assigned</td>\\n<td>Not assigned\\n</td></tr>\\n<tr>\\n<td>M3T</td>\\n<td>Not assigned</td>\\n<td>Not assigned\\n</td></tr>\\n<tr>\\n<td>M4T</td>\\n<td><a class=\"mw-redirect\" href=\"/wiki/Central_Toronto\" title=\"Central Toronto\">Central Toronto</a></td>\\n<td><a href=\"/wiki/Moore_Park,_Toronto\" title=\"Moore Park, Toronto\">Moore Park</a>\\n</td></tr>\\n<tr>\\n<td>M4T</td>\\n<td><a class=\"mw-redirect\" href=\"/wiki/Central_Toronto\" title=\"Central Toronto\">Central Toronto</a></td>\\n<td>Summerhill East\\n</td></tr>\\n<tr>\\n<td>M5T</td>\\n<td><a href=\"/wiki/Downtown_Toronto\" title=\"Downtown Toronto\">Downtown Toronto</a></td>\\n<td><a href=\"/wiki/Chinatown,_Toronto\" title=\"Chinatown, Toronto\">Chinatown</a>\\n</td></tr>\\n<tr>\\n<td>M5T</td>\\n<td><a href=\"/wiki/Downtown_Toronto\" title=\"Downtown Toronto\">Downtown Toronto</a></td>\\n<td><a href=\"/wiki/Grange_Park_(Toronto)\" title=\"Grange Park (Toronto)\">Grange Park</a>\\n</td></tr>\\n<tr>\\n<td>M5T</td>\\n<td><a href=\"/wiki/Downtown_Toronto\" title=\"Downtown Toronto\">Downtown Toronto</a></td>\\n<td><a href=\"/wiki/Kensington_Market\" title=\"Kensington Market\">Kensington Market</a>\\n</td></tr>\\n<tr>\\n<td>M6T</td>\\n<td>Not assigned</td>\\n<td>Not assigned\\n</td></tr>\\n<tr>\\n<td>M7T</td>\\n<td>Not assigned</td>\\n<td>Not assigned\\n</td></tr>\\n<tr>\\n<td>M8T</td>\\n<td>Not assigned</td>\\n<td>Not assigned\\n</td></tr>\\n<tr>\\n<td>M9T</td>\\n<td>Not assigned</td>\\n<td>Not assigned\\n</td></tr>\\n<tr>\\n<td>M1V</td>\\n<td><a href=\"/wiki/Scarborough,_Toronto\" title=\"Scarborough, Toronto\">Scarborough</a></td>\\n<td><a class=\"mw-redirect\" href=\"/wiki/Agincourt_North\" title=\"Agincourt North\">Agincourt North</a>\\n</td></tr>\\n<tr>\\n<td>M1V</td>\\n<td><a href=\"/wiki/Scarborough,_Toronto\" title=\"Scarborough, Toronto\">Scarborough</a></td>\\n<td>L\\'Amoreaux East\\n</td></tr>\\n<tr>\\n<td>M1V</td>\\n<td><a href=\"/wiki/Scarborough,_Toronto\" title=\"Scarborough, Toronto\">Scarborough</a></td>\\n<td><a href=\"/wiki/Milliken,_Ontario\" title=\"Milliken, Ontario\">Milliken</a>\\n</td></tr>\\n<tr>\\n<td>M1V</td>\\n<td><a href=\"/wiki/Scarborough,_Toronto\" title=\"Scarborough, Toronto\">Scarborough</a></td>\\n<td>Steeles East\\n</td></tr>\\n<tr>\\n<td>M2V</td>\\n<td>Not assigned</td>\\n<td>Not assigned\\n</td></tr>\\n<tr>\\n<td>M3V</td>\\n<td>Not assigned</td>\\n<td>Not assigned\\n</td></tr>\\n<tr>\\n<td>M4V</td>\\n<td><a class=\"mw-redirect\" href=\"/wiki/Central_Toronto\" title=\"Central Toronto\">Central Toronto</a></td>\\n<td><a href=\"/wiki/Deer_Park,_Toronto\" title=\"Deer Park, Toronto\">Deer Park</a>\\n</td></tr>\\n<tr>\\n<td>M4V</td>\\n<td><a class=\"mw-redirect\" href=\"/wiki/Central_Toronto\" title=\"Central Toronto\">Central Toronto</a></td>\\n<td>Forest Hill SE\\n</td></tr>\\n<tr>\\n<td>M4V</td>\\n<td><a class=\"mw-redirect\" href=\"/wiki/Central_Toronto\" title=\"Central Toronto\">Central Toronto</a></td>\\n<td><a class=\"mw-redirect\" href=\"/wiki/Rathnelly\" title=\"Rathnelly\">Rathnelly</a>\\n</td></tr>\\n<tr>\\n<td>M4V</td>\\n<td><a class=\"mw-redirect\" href=\"/wiki/Central_Toronto\" title=\"Central Toronto\">Central Toronto</a></td>\\n<td><a href=\"/wiki/South_Hill,_Toronto\" title=\"South Hill, Toronto\">South Hill</a>\\n</td></tr>\\n<tr>\\n<td>M4V</td>\\n<td><a class=\"mw-redirect\" href=\"/wiki/Central_Toronto\" title=\"Central Toronto\">Central Toronto</a></td>\\n<td>Summerhill West\\n</td></tr>\\n<tr>\\n<td>M5V</td>\\n<td><a href=\"/wiki/Downtown_Toronto\" title=\"Downtown Toronto\">Downtown Toronto</a></td>\\n<td><a href=\"/wiki/CN_Tower\" title=\"CN Tower\">CN Tower</a>\\n</td></tr>\\n<tr>\\n<td>M5V</td>\\n<td><a href=\"/wiki/Downtown_Toronto\" title=\"Downtown Toronto\">Downtown Toronto</a></td>\\n<td>Bathurst Quay\\n</td></tr>\\n<tr>\\n<td>M5V</td>\\n<td><a href=\"/wiki/Downtown_Toronto\" title=\"Downtown Toronto\">Downtown Toronto</a></td>\\n<td>Island airport\\n</td></tr>\\n<tr>\\n<td>M5V</td>\\n<td><a href=\"/wiki/Downtown_Toronto\" title=\"Downtown Toronto\">Downtown Toronto</a></td>\\n<td>Harbourfront West\\n</td></tr>\\n<tr>\\n<td>M5V</td>\\n<td><a href=\"/wiki/Downtown_Toronto\" title=\"Downtown Toronto\">Downtown Toronto</a></td>\\n<td><a class=\"mw-redirect\" href=\"/wiki/King_and_Spadina\" title=\"King and Spadina\">King and Spadina</a>\\n</td></tr>\\n<tr>\\n<td>M5V</td>\\n<td><a href=\"/wiki/Downtown_Toronto\" title=\"Downtown Toronto\">Downtown Toronto</a></td>\\n<td><a href=\"/wiki/Railway_Lands\" title=\"Railway Lands\">Railway Lands</a>\\n</td></tr>\\n<tr>\\n<td>M5V</td>\\n<td><a href=\"/wiki/Downtown_Toronto\" title=\"Downtown Toronto\">Downtown Toronto</a></td>\\n<td><a class=\"mw-redirect\" href=\"/wiki/South_Niagara\" title=\"South Niagara\">South Niagara</a>\\n</td></tr>\\n<tr>\\n<td>M6V</td>\\n<td>Not assigned</td>\\n<td>Not assigned\\n</td></tr>\\n<tr>\\n<td>M7V</td>\\n<td>Not assigned</td>\\n<td>Not assigned\\n</td></tr>\\n<tr>\\n<td>M8V</td>\\n<td><a href=\"/wiki/Etobicoke\" title=\"Etobicoke\">Etobicoke</a></td>\\n<td>Humber Bay Shores\\n</td></tr>\\n<tr>\\n<td>M8V</td>\\n<td><a href=\"/wiki/Etobicoke\" title=\"Etobicoke\">Etobicoke</a></td>\\n<td>Mimico South\\n</td></tr>\\n<tr>\\n<td>M8V</td>\\n<td><a href=\"/wiki/Etobicoke\" title=\"Etobicoke\">Etobicoke</a></td>\\n<td><a href=\"/wiki/New_Toronto\" title=\"New Toronto\">New Toronto</a>\\n</td></tr>\\n<tr>\\n<td>M9V</td>\\n<td><a href=\"/wiki/Etobicoke\" title=\"Etobicoke\">Etobicoke</a></td>\\n<td>Albion Gardens\\n</td></tr>\\n<tr>\\n<td>M9V</td>\\n<td><a href=\"/wiki/Etobicoke\" title=\"Etobicoke\">Etobicoke</a></td>\\n<td><a class=\"mw-redirect\" href=\"/wiki/Beaumond_Heights\" title=\"Beaumond Heights\">Beaumond Heights</a>\\n</td></tr>\\n<tr>\\n<td>M9V</td>\\n<td><a href=\"/wiki/Etobicoke\" title=\"Etobicoke\">Etobicoke</a></td>\\n<td>Humbergate\\n</td></tr>\\n<tr>\\n<td>M9V</td>\\n<td><a href=\"/wiki/Etobicoke\" title=\"Etobicoke\">Etobicoke</a></td>\\n<td><a class=\"mw-redirect\" href=\"/wiki/Mount_Olive-Silverstone-Jamestown\" title=\"Mount Olive-Silverstone-Jamestown\">Jamestown</a>\\n</td></tr>\\n<tr>\\n<td>M9V</td>\\n<td><a href=\"/wiki/Etobicoke\" title=\"Etobicoke\">Etobicoke</a></td>\\n<td><a class=\"mw-redirect\" href=\"/wiki/Mount_Olive-Silverstone-Jamestown\" title=\"Mount Olive-Silverstone-Jamestown\">Mount Olive</a>\\n</td></tr>\\n<tr>\\n<td>M9V</td>\\n<td><a href=\"/wiki/Etobicoke\" title=\"Etobicoke\">Etobicoke</a></td>\\n<td><a class=\"mw-redirect\" href=\"/wiki/Silverstone,_Toronto\" title=\"Silverstone, Toronto\">Silverstone</a>\\n</td></tr>\\n<tr>\\n<td>M9V</td>\\n<td><a href=\"/wiki/Etobicoke\" title=\"Etobicoke\">Etobicoke</a></td>\\n<td><a class=\"mw-redirect\" href=\"/wiki/South_Steeles\" title=\"South Steeles\">South Steeles</a>\\n</td></tr>\\n<tr>\\n<td>M9V</td>\\n<td><a href=\"/wiki/Etobicoke\" title=\"Etobicoke\">Etobicoke</a></td>\\n<td><a href=\"/wiki/Thistletown\" title=\"Thistletown\">Thistletown</a>\\n</td></tr>\\n<tr>\\n<td>M1W</td>\\n<td><a href=\"/wiki/Scarborough,_Toronto\" title=\"Scarborough, Toronto\">Scarborough</a></td>\\n<td>L\\'Amoreaux West\\n</td></tr>\\n<tr>\\n<td>M2W</td>\\n<td>Not assigned</td>\\n<td>Not assigned\\n</td></tr>\\n<tr>\\n<td>M3W</td>\\n<td>Not assigned</td>\\n<td>Not assigned\\n</td></tr>\\n<tr>\\n<td>M4W</td>\\n<td><a href=\"/wiki/Downtown_Toronto\" title=\"Downtown Toronto\">Downtown Toronto</a></td>\\n<td><a href=\"/wiki/Rosedale,_Toronto\" title=\"Rosedale, Toronto\">Rosedale</a>\\n</td></tr>\\n<tr>\\n<td>M5W</td>\\n<td><a href=\"/wiki/Downtown_Toronto\" title=\"Downtown Toronto\">Downtown Toronto</a></td>\\n<td>Stn A PO Boxes 25 The Esplanade\\n</td></tr>\\n<tr>\\n<td>M6W</td>\\n<td>Not assigned</td>\\n<td>Not assigned\\n</td></tr>\\n<tr>\\n<td>M7W</td>\\n<td>Not assigned</td>\\n<td>Not assigned\\n</td></tr>\\n<tr>\\n<td>M8W</td>\\n<td><a href=\"/wiki/Etobicoke\" title=\"Etobicoke\">Etobicoke</a></td>\\n<td><a href=\"/wiki/Alderwood,_Toronto\" title=\"Alderwood, Toronto\">Alderwood</a>\\n</td></tr>\\n<tr>\\n<td>M8W</td>\\n<td><a href=\"/wiki/Etobicoke\" title=\"Etobicoke\">Etobicoke</a></td>\\n<td><a href=\"/wiki/Long_Branch,_Toronto\" title=\"Long Branch, Toronto\">Long Branch</a>\\n</td></tr>\\n<tr>\\n<td>M9W</td>\\n<td><a href=\"/wiki/Etobicoke\" title=\"Etobicoke\">Etobicoke</a></td>\\n<td>Northwest\\n</td></tr>\\n<tr>\\n<td>M1X</td>\\n<td><a href=\"/wiki/Scarborough,_Toronto\" title=\"Scarborough, Toronto\">Scarborough</a></td>\\n<td><a class=\"mw-redirect\" href=\"/wiki/Upper_Rouge\" title=\"Upper Rouge\">Upper Rouge</a>\\n</td></tr>\\n<tr>\\n<td>M2X</td>\\n<td>Not assigned</td>\\n<td>Not assigned\\n</td></tr>\\n<tr>\\n<td>M3X</td>\\n<td>Not assigned</td>\\n<td>Not assigned\\n</td></tr>\\n<tr>\\n<td>M4X</td>\\n<td><a href=\"/wiki/Downtown_Toronto\" title=\"Downtown Toronto\">Downtown Toronto</a></td>\\n<td><a href=\"/wiki/Cabbagetown,_Toronto\" title=\"Cabbagetown, Toronto\">Cabbagetown</a>\\n</td></tr>\\n<tr>\\n<td>M4X</td>\\n<td><a href=\"/wiki/Downtown_Toronto\" title=\"Downtown Toronto\">Downtown Toronto</a></td>\\n<td><a href=\"/wiki/St._James_Town\" title=\"St. James Town\">St. James Town</a>\\n</td></tr>\\n<tr>\\n<td>M5X</td>\\n<td><a href=\"/wiki/Downtown_Toronto\" title=\"Downtown Toronto\">Downtown Toronto</a></td>\\n<td><a href=\"/wiki/First_Canadian_Place\" title=\"First Canadian Place\">First Canadian Place</a>\\n</td></tr>\\n<tr>\\n<td>M5X</td>\\n<td><a href=\"/wiki/Downtown_Toronto\" title=\"Downtown Toronto\">Downtown Toronto</a></td>\\n<td><a href=\"/wiki/Underground_city\" title=\"Underground city\">Underground city</a>\\n</td></tr>\\n<tr>\\n<td>M6X</td>\\n<td>Not assigned</td>\\n<td>Not assigned\\n</td></tr>\\n<tr>\\n<td>M7X</td>\\n<td>Not assigned</td>\\n<td>Not assigned\\n</td></tr>\\n<tr>\\n<td>M8X</td>\\n<td><a href=\"/wiki/Etobicoke\" title=\"Etobicoke\">Etobicoke</a></td>\\n<td><a href=\"/wiki/The_Kingsway\" title=\"The Kingsway\">The Kingsway</a>\\n</td></tr>\\n<tr>\\n<td>M8X</td>\\n<td><a href=\"/wiki/Etobicoke\" title=\"Etobicoke\">Etobicoke</a></td>\\n<td>Montgomery Road\\n</td></tr>\\n<tr>\\n<td>M8X</td>\\n<td><a href=\"/wiki/Etobicoke\" title=\"Etobicoke\">Etobicoke</a></td>\\n<td>Old Mill North\\n</td></tr>\\n<tr>\\n<td>M9X</td>\\n<td>Not assigned</td>\\n<td>Not assigned\\n</td></tr>\\n<tr>\\n<td>M1Y</td>\\n<td>Not assigned</td>\\n<td>Not assigned\\n</td></tr>\\n<tr>\\n<td>M2Y</td>\\n<td>Not assigned</td>\\n<td>Not assigned\\n</td></tr>\\n<tr>\\n<td>M3Y</td>\\n<td>Not assigned</td>\\n<td>Not assigned\\n</td></tr>\\n<tr>\\n<td>M4Y</td>\\n<td><a href=\"/wiki/Downtown_Toronto\" title=\"Downtown Toronto\">Downtown Toronto</a></td>\\n<td><a href=\"/wiki/Church_and_Wellesley\" title=\"Church and Wellesley\">Church and Wellesley</a>\\n</td></tr>\\n<tr>\\n<td>M5Y</td>\\n<td>Not assigned</td>\\n<td>Not assigned\\n</td></tr>\\n<tr>\\n<td>M6Y</td>\\n<td>Not assigned</td>\\n<td>Not assigned\\n</td></tr>\\n<tr>\\n<td>M7Y</td>\\n<td><a href=\"/wiki/East_Toronto\" title=\"East Toronto\">East Toronto</a></td>\\n<td>Business Reply Mail Processing Centre 969 Eastern\\n</td></tr>\\n<tr>\\n<td>M8Y</td>\\n<td><a href=\"/wiki/Etobicoke\" title=\"Etobicoke\">Etobicoke</a></td>\\n<td><a href=\"/wiki/Humber_Bay\" title=\"Humber Bay\">Humber Bay</a>\\n</td></tr>\\n<tr>\\n<td>M8Y</td>\\n<td><a href=\"/wiki/Etobicoke\" title=\"Etobicoke\">Etobicoke</a></td>\\n<td>King\\'s Mill Park\\n</td></tr>\\n<tr>\\n<td>M8Y</td>\\n<td><a href=\"/wiki/Etobicoke\" title=\"Etobicoke\">Etobicoke</a></td>\\n<td>Kingsway Park South East\\n</td></tr>\\n<tr>\\n<td>M8Y</td>\\n<td><a href=\"/wiki/Etobicoke\" title=\"Etobicoke\">Etobicoke</a></td>\\n<td><a href=\"/wiki/Mimico\" title=\"Mimico\">Mimico NE</a>\\n</td></tr>\\n<tr>\\n<td>M8Y</td>\\n<td><a href=\"/wiki/Etobicoke\" title=\"Etobicoke\">Etobicoke</a></td>\\n<td><a href=\"/wiki/Old_Mill,_Toronto\" title=\"Old Mill, Toronto\">Old Mill South</a>\\n</td></tr>\\n<tr>\\n<td>M8Y</td>\\n<td><a href=\"/wiki/Etobicoke\" title=\"Etobicoke\">Etobicoke</a></td>\\n<td><a href=\"/wiki/The_Queensway\" title=\"The Queensway\">The Queensway East</a>\\n</td></tr>\\n<tr>\\n<td>M8Y</td>\\n<td><a href=\"/wiki/Etobicoke\" title=\"Etobicoke\">Etobicoke</a></td>\\n<td><a class=\"mw-redirect\" href=\"/wiki/Fairmont_Royal_York_Hotel\" title=\"Fairmont Royal York Hotel\">Royal York South East</a>\\n</td></tr>\\n<tr>\\n<td>M8Y</td>\\n<td><a href=\"/wiki/Etobicoke\" title=\"Etobicoke\">Etobicoke</a></td>\\n<td><a class=\"mw-redirect\" href=\"/wiki/Sunnylea\" title=\"Sunnylea\">Sunnylea</a>\\n</td></tr>\\n<tr>\\n<td>M9Y</td>\\n<td>Not assigned</td>\\n<td>Not assigned\\n</td></tr>\\n<tr>\\n<td>M1Z</td>\\n<td>Not assigned</td>\\n<td>Not assigned\\n</td></tr>\\n<tr>\\n<td>M2Z</td>\\n<td>Not assigned</td>\\n<td>Not assigned\\n</td></tr>\\n<tr>\\n<td>M3Z</td>\\n<td>Not assigned</td>\\n<td>Not assigned\\n</td></tr>\\n<tr>\\n<td>M4Z</td>\\n<td>Not assigned</td>\\n<td>Not assigned\\n</td></tr>\\n<tr>\\n<td>M5Z</td>\\n<td>Not assigned</td>\\n<td>Not assigned\\n</td></tr>\\n<tr>\\n<td>M6Z</td>\\n<td>Not assigned</td>\\n<td>Not assigned\\n</td></tr>\\n<tr>\\n<td>M7Z</td>\\n<td>Not assigned</td>\\n<td>Not assigned\\n</td></tr>\\n<tr>\\n<td>M8Z</td>\\n<td><a href=\"/wiki/Etobicoke\" title=\"Etobicoke\">Etobicoke</a></td>\\n<td>Kingsway Park South West\\n</td></tr>\\n<tr>\\n<td>M8Z</td>\\n<td><a href=\"/wiki/Etobicoke\" title=\"Etobicoke\">Etobicoke</a></td>\\n<td><a href=\"/wiki/Mimico\" title=\"Mimico\">Mimico NW</a>\\n</td></tr>\\n<tr>\\n<td>M8Z</td>\\n<td><a href=\"/wiki/Etobicoke\" title=\"Etobicoke\">Etobicoke</a></td>\\n<td><a href=\"/wiki/The_Queensway\" title=\"The Queensway\">The Queensway West</a>\\n</td></tr>\\n<tr>\\n<td>M8Z</td>\\n<td><a href=\"/wiki/Etobicoke\" title=\"Etobicoke\">Etobicoke</a></td>\\n<td>Royal York South West\\n</td></tr>\\n<tr>\\n<td>M8Z</td>\\n<td><a href=\"/wiki/Etobicoke\" title=\"Etobicoke\">Etobicoke</a></td>\\n<td>South of Bloor\\n</td></tr>\\n<tr>\\n<td>M9Z</td>\\n<td>Not assigned</td>\\n<td>Not assigned\\n</td></tr>\\n</tbody></table>'"
      ]
     },
     "execution_count": 17,
     "metadata": {},
     "output_type": "execute_result"
    }
   ],
   "source": [
    "table1"
   ]
  },
  {
   "cell_type": "code",
   "execution_count": 16,
   "metadata": {},
   "outputs": [],
   "source": [
    "#reading from html file to dataframe\n",
    "df=pd.read_html(table1)"
   ]
  },
  {
   "cell_type": "code",
   "execution_count": 27,
   "metadata": {},
   "outputs": [],
   "source": [
    "#Assigning the dataframe to a meaningful value\n",
    "toronto_df=df[0]"
   ]
  },
  {
   "cell_type": "code",
   "execution_count": 28,
   "metadata": {},
   "outputs": [
    {
     "data": {
      "text/html": [
       "<div>\n",
       "<style scoped>\n",
       "    .dataframe tbody tr th:only-of-type {\n",
       "        vertical-align: middle;\n",
       "    }\n",
       "\n",
       "    .dataframe tbody tr th {\n",
       "        vertical-align: top;\n",
       "    }\n",
       "\n",
       "    .dataframe thead th {\n",
       "        text-align: right;\n",
       "    }\n",
       "</style>\n",
       "<table border=\"1\" class=\"dataframe\">\n",
       "  <thead>\n",
       "    <tr style=\"text-align: right;\">\n",
       "      <th></th>\n",
       "      <th>Postcode</th>\n",
       "      <th>Borough</th>\n",
       "      <th>Neighbourhood</th>\n",
       "    </tr>\n",
       "  </thead>\n",
       "  <tbody>\n",
       "    <tr>\n",
       "      <th>0</th>\n",
       "      <td>M1A</td>\n",
       "      <td>Not assigned</td>\n",
       "      <td>Not assigned</td>\n",
       "    </tr>\n",
       "    <tr>\n",
       "      <th>1</th>\n",
       "      <td>M2A</td>\n",
       "      <td>Not assigned</td>\n",
       "      <td>Not assigned</td>\n",
       "    </tr>\n",
       "    <tr>\n",
       "      <th>2</th>\n",
       "      <td>M3A</td>\n",
       "      <td>North York</td>\n",
       "      <td>Parkwoods</td>\n",
       "    </tr>\n",
       "    <tr>\n",
       "      <th>3</th>\n",
       "      <td>M4A</td>\n",
       "      <td>North York</td>\n",
       "      <td>Victoria Village</td>\n",
       "    </tr>\n",
       "    <tr>\n",
       "      <th>4</th>\n",
       "      <td>M5A</td>\n",
       "      <td>Downtown Toronto</td>\n",
       "      <td>Harbourfront</td>\n",
       "    </tr>\n",
       "    <tr>\n",
       "      <th>5</th>\n",
       "      <td>M6A</td>\n",
       "      <td>North York</td>\n",
       "      <td>Lawrence Heights</td>\n",
       "    </tr>\n",
       "    <tr>\n",
       "      <th>6</th>\n",
       "      <td>M6A</td>\n",
       "      <td>North York</td>\n",
       "      <td>Lawrence Manor</td>\n",
       "    </tr>\n",
       "    <tr>\n",
       "      <th>7</th>\n",
       "      <td>M7A</td>\n",
       "      <td>Downtown Toronto</td>\n",
       "      <td>Queen's Park</td>\n",
       "    </tr>\n",
       "    <tr>\n",
       "      <th>8</th>\n",
       "      <td>M8A</td>\n",
       "      <td>Not assigned</td>\n",
       "      <td>Not assigned</td>\n",
       "    </tr>\n",
       "    <tr>\n",
       "      <th>9</th>\n",
       "      <td>M9A</td>\n",
       "      <td>Queen's Park</td>\n",
       "      <td>Not assigned</td>\n",
       "    </tr>\n",
       "  </tbody>\n",
       "</table>\n",
       "</div>"
      ],
      "text/plain": [
       "  Postcode           Borough     Neighbourhood\n",
       "0      M1A      Not assigned      Not assigned\n",
       "1      M2A      Not assigned      Not assigned\n",
       "2      M3A        North York         Parkwoods\n",
       "3      M4A        North York  Victoria Village\n",
       "4      M5A  Downtown Toronto      Harbourfront\n",
       "5      M6A        North York  Lawrence Heights\n",
       "6      M6A        North York    Lawrence Manor\n",
       "7      M7A  Downtown Toronto      Queen's Park\n",
       "8      M8A      Not assigned      Not assigned\n",
       "9      M9A      Queen's Park      Not assigned"
      ]
     },
     "execution_count": 28,
     "metadata": {},
     "output_type": "execute_result"
    }
   ],
   "source": [
    "toronto_df.head(10)"
   ]
  },
  {
   "cell_type": "markdown",
   "metadata": {},
   "source": [
    "Now replacing the Not assigned values with Null values for calculation purpose"
   ]
  },
  {
   "cell_type": "code",
   "execution_count": 30,
   "metadata": {},
   "outputs": [],
   "source": [
    "toronto_df.replace(\"Not assigned\",np.nan,inplace=True)"
   ]
  },
  {
   "cell_type": "code",
   "execution_count": 31,
   "metadata": {},
   "outputs": [
    {
     "data": {
      "text/html": [
       "<div>\n",
       "<style scoped>\n",
       "    .dataframe tbody tr th:only-of-type {\n",
       "        vertical-align: middle;\n",
       "    }\n",
       "\n",
       "    .dataframe tbody tr th {\n",
       "        vertical-align: top;\n",
       "    }\n",
       "\n",
       "    .dataframe thead th {\n",
       "        text-align: right;\n",
       "    }\n",
       "</style>\n",
       "<table border=\"1\" class=\"dataframe\">\n",
       "  <thead>\n",
       "    <tr style=\"text-align: right;\">\n",
       "      <th></th>\n",
       "      <th>Postcode</th>\n",
       "      <th>Borough</th>\n",
       "      <th>Neighbourhood</th>\n",
       "    </tr>\n",
       "  </thead>\n",
       "  <tbody>\n",
       "    <tr>\n",
       "      <th>0</th>\n",
       "      <td>M1A</td>\n",
       "      <td>NaN</td>\n",
       "      <td>NaN</td>\n",
       "    </tr>\n",
       "    <tr>\n",
       "      <th>1</th>\n",
       "      <td>M2A</td>\n",
       "      <td>NaN</td>\n",
       "      <td>NaN</td>\n",
       "    </tr>\n",
       "    <tr>\n",
       "      <th>2</th>\n",
       "      <td>M3A</td>\n",
       "      <td>North York</td>\n",
       "      <td>Parkwoods</td>\n",
       "    </tr>\n",
       "    <tr>\n",
       "      <th>3</th>\n",
       "      <td>M4A</td>\n",
       "      <td>North York</td>\n",
       "      <td>Victoria Village</td>\n",
       "    </tr>\n",
       "    <tr>\n",
       "      <th>4</th>\n",
       "      <td>M5A</td>\n",
       "      <td>Downtown Toronto</td>\n",
       "      <td>Harbourfront</td>\n",
       "    </tr>\n",
       "  </tbody>\n",
       "</table>\n",
       "</div>"
      ],
      "text/plain": [
       "  Postcode           Borough     Neighbourhood\n",
       "0      M1A               NaN               NaN\n",
       "1      M2A               NaN               NaN\n",
       "2      M3A        North York         Parkwoods\n",
       "3      M4A        North York  Victoria Village\n",
       "4      M5A  Downtown Toronto      Harbourfront"
      ]
     },
     "execution_count": 31,
     "metadata": {},
     "output_type": "execute_result"
    }
   ],
   "source": [
    "toronto_df.head()"
   ]
  },
  {
   "cell_type": "code",
   "execution_count": 33,
   "metadata": {},
   "outputs": [
    {
     "name": "stdout",
     "output_type": "stream",
     "text": [
      "The size of the dataframe before dropping null values of the Borough are (287, 3)\n"
     ]
    }
   ],
   "source": [
    "print(\"The size of the dataframe before dropping null values of the Borough are {}\".format(toronto_df.shape))"
   ]
  },
  {
   "cell_type": "markdown",
   "metadata": {},
   "source": [
    "<b>Ignoring the Borough with Null values as given in the Instructions</b>"
   ]
  },
  {
   "cell_type": "code",
   "execution_count": 34,
   "metadata": {},
   "outputs": [],
   "source": [
    "toronto_df=toronto_df.dropna(subset=['Borough'],axis=0)"
   ]
  },
  {
   "cell_type": "code",
   "execution_count": 35,
   "metadata": {},
   "outputs": [
    {
     "name": "stdout",
     "output_type": "stream",
     "text": [
      "The size of the dataframe after dropping null values of the Borough are (210, 3)\n"
     ]
    }
   ],
   "source": [
    "print(\"The size of the dataframe after dropping null values of the Borough are {}\".format(toronto_df.shape))"
   ]
  },
  {
   "cell_type": "code",
   "execution_count": 37,
   "metadata": {},
   "outputs": [
    {
     "data": {
      "text/html": [
       "<div>\n",
       "<style scoped>\n",
       "    .dataframe tbody tr th:only-of-type {\n",
       "        vertical-align: middle;\n",
       "    }\n",
       "\n",
       "    .dataframe tbody tr th {\n",
       "        vertical-align: top;\n",
       "    }\n",
       "\n",
       "    .dataframe thead th {\n",
       "        text-align: right;\n",
       "    }\n",
       "</style>\n",
       "<table border=\"1\" class=\"dataframe\">\n",
       "  <thead>\n",
       "    <tr style=\"text-align: right;\">\n",
       "      <th></th>\n",
       "      <th>Postcode</th>\n",
       "      <th>Borough</th>\n",
       "      <th>Neighbourhood</th>\n",
       "    </tr>\n",
       "  </thead>\n",
       "  <tbody>\n",
       "    <tr>\n",
       "      <th>2</th>\n",
       "      <td>M3A</td>\n",
       "      <td>North York</td>\n",
       "      <td>Parkwoods</td>\n",
       "    </tr>\n",
       "    <tr>\n",
       "      <th>3</th>\n",
       "      <td>M4A</td>\n",
       "      <td>North York</td>\n",
       "      <td>Victoria Village</td>\n",
       "    </tr>\n",
       "    <tr>\n",
       "      <th>4</th>\n",
       "      <td>M5A</td>\n",
       "      <td>Downtown Toronto</td>\n",
       "      <td>Harbourfront</td>\n",
       "    </tr>\n",
       "    <tr>\n",
       "      <th>5</th>\n",
       "      <td>M6A</td>\n",
       "      <td>North York</td>\n",
       "      <td>Lawrence Heights</td>\n",
       "    </tr>\n",
       "    <tr>\n",
       "      <th>6</th>\n",
       "      <td>M6A</td>\n",
       "      <td>North York</td>\n",
       "      <td>Lawrence Manor</td>\n",
       "    </tr>\n",
       "  </tbody>\n",
       "</table>\n",
       "</div>"
      ],
      "text/plain": [
       "  Postcode           Borough     Neighbourhood\n",
       "2      M3A        North York         Parkwoods\n",
       "3      M4A        North York  Victoria Village\n",
       "4      M5A  Downtown Toronto      Harbourfront\n",
       "5      M6A        North York  Lawrence Heights\n",
       "6      M6A        North York    Lawrence Manor"
      ]
     },
     "execution_count": 37,
     "metadata": {},
     "output_type": "execute_result"
    }
   ],
   "source": [
    "toronto_df.head()"
   ]
  },
  {
   "cell_type": "markdown",
   "metadata": {},
   "source": [
    "<b>Resetting the row index since we have dropped certain rows in previous step</b>"
   ]
  },
  {
   "cell_type": "code",
   "execution_count": 38,
   "metadata": {},
   "outputs": [],
   "source": [
    "toronto_df.reset_index(inplace=True)"
   ]
  },
  {
   "cell_type": "code",
   "execution_count": 39,
   "metadata": {},
   "outputs": [
    {
     "data": {
      "text/html": [
       "<div>\n",
       "<style scoped>\n",
       "    .dataframe tbody tr th:only-of-type {\n",
       "        vertical-align: middle;\n",
       "    }\n",
       "\n",
       "    .dataframe tbody tr th {\n",
       "        vertical-align: top;\n",
       "    }\n",
       "\n",
       "    .dataframe thead th {\n",
       "        text-align: right;\n",
       "    }\n",
       "</style>\n",
       "<table border=\"1\" class=\"dataframe\">\n",
       "  <thead>\n",
       "    <tr style=\"text-align: right;\">\n",
       "      <th></th>\n",
       "      <th>index</th>\n",
       "      <th>Postcode</th>\n",
       "      <th>Borough</th>\n",
       "      <th>Neighbourhood</th>\n",
       "    </tr>\n",
       "  </thead>\n",
       "  <tbody>\n",
       "    <tr>\n",
       "      <th>0</th>\n",
       "      <td>2</td>\n",
       "      <td>M3A</td>\n",
       "      <td>North York</td>\n",
       "      <td>Parkwoods</td>\n",
       "    </tr>\n",
       "    <tr>\n",
       "      <th>1</th>\n",
       "      <td>3</td>\n",
       "      <td>M4A</td>\n",
       "      <td>North York</td>\n",
       "      <td>Victoria Village</td>\n",
       "    </tr>\n",
       "    <tr>\n",
       "      <th>2</th>\n",
       "      <td>4</td>\n",
       "      <td>M5A</td>\n",
       "      <td>Downtown Toronto</td>\n",
       "      <td>Harbourfront</td>\n",
       "    </tr>\n",
       "    <tr>\n",
       "      <th>3</th>\n",
       "      <td>5</td>\n",
       "      <td>M6A</td>\n",
       "      <td>North York</td>\n",
       "      <td>Lawrence Heights</td>\n",
       "    </tr>\n",
       "    <tr>\n",
       "      <th>4</th>\n",
       "      <td>6</td>\n",
       "      <td>M6A</td>\n",
       "      <td>North York</td>\n",
       "      <td>Lawrence Manor</td>\n",
       "    </tr>\n",
       "  </tbody>\n",
       "</table>\n",
       "</div>"
      ],
      "text/plain": [
       "   index Postcode           Borough     Neighbourhood\n",
       "0      2      M3A        North York         Parkwoods\n",
       "1      3      M4A        North York  Victoria Village\n",
       "2      4      M5A  Downtown Toronto      Harbourfront\n",
       "3      5      M6A        North York  Lawrence Heights\n",
       "4      6      M6A        North York    Lawrence Manor"
      ]
     },
     "execution_count": 39,
     "metadata": {},
     "output_type": "execute_result"
    }
   ],
   "source": [
    "toronto_df.head()"
   ]
  },
  {
   "cell_type": "code",
   "execution_count": 40,
   "metadata": {},
   "outputs": [
    {
     "name": "stderr",
     "output_type": "stream",
     "text": [
      "/home/jupyterlab/conda/envs/python/lib/python3.6/site-packages/pandas/core/frame.py:4117: SettingWithCopyWarning: \n",
      "A value is trying to be set on a copy of a slice from a DataFrame\n",
      "\n",
      "See the caveats in the documentation: http://pandas.pydata.org/pandas-docs/stable/user_guide/indexing.html#returning-a-view-versus-a-copy\n",
      "  errors=errors,\n"
     ]
    }
   ],
   "source": [
    "toronto_df.drop(['index'],axis=1,inplace=True)"
   ]
  },
  {
   "cell_type": "code",
   "execution_count": 41,
   "metadata": {},
   "outputs": [
    {
     "data": {
      "text/html": [
       "<div>\n",
       "<style scoped>\n",
       "    .dataframe tbody tr th:only-of-type {\n",
       "        vertical-align: middle;\n",
       "    }\n",
       "\n",
       "    .dataframe tbody tr th {\n",
       "        vertical-align: top;\n",
       "    }\n",
       "\n",
       "    .dataframe thead th {\n",
       "        text-align: right;\n",
       "    }\n",
       "</style>\n",
       "<table border=\"1\" class=\"dataframe\">\n",
       "  <thead>\n",
       "    <tr style=\"text-align: right;\">\n",
       "      <th></th>\n",
       "      <th>Postcode</th>\n",
       "      <th>Borough</th>\n",
       "      <th>Neighbourhood</th>\n",
       "    </tr>\n",
       "  </thead>\n",
       "  <tbody>\n",
       "    <tr>\n",
       "      <th>0</th>\n",
       "      <td>M3A</td>\n",
       "      <td>North York</td>\n",
       "      <td>Parkwoods</td>\n",
       "    </tr>\n",
       "    <tr>\n",
       "      <th>1</th>\n",
       "      <td>M4A</td>\n",
       "      <td>North York</td>\n",
       "      <td>Victoria Village</td>\n",
       "    </tr>\n",
       "    <tr>\n",
       "      <th>2</th>\n",
       "      <td>M5A</td>\n",
       "      <td>Downtown Toronto</td>\n",
       "      <td>Harbourfront</td>\n",
       "    </tr>\n",
       "    <tr>\n",
       "      <th>3</th>\n",
       "      <td>M6A</td>\n",
       "      <td>North York</td>\n",
       "      <td>Lawrence Heights</td>\n",
       "    </tr>\n",
       "    <tr>\n",
       "      <th>4</th>\n",
       "      <td>M6A</td>\n",
       "      <td>North York</td>\n",
       "      <td>Lawrence Manor</td>\n",
       "    </tr>\n",
       "    <tr>\n",
       "      <th>5</th>\n",
       "      <td>M7A</td>\n",
       "      <td>Downtown Toronto</td>\n",
       "      <td>Queen's Park</td>\n",
       "    </tr>\n",
       "    <tr>\n",
       "      <th>6</th>\n",
       "      <td>M9A</td>\n",
       "      <td>Queen's Park</td>\n",
       "      <td>NaN</td>\n",
       "    </tr>\n",
       "    <tr>\n",
       "      <th>7</th>\n",
       "      <td>M1B</td>\n",
       "      <td>Scarborough</td>\n",
       "      <td>Rouge</td>\n",
       "    </tr>\n",
       "    <tr>\n",
       "      <th>8</th>\n",
       "      <td>M1B</td>\n",
       "      <td>Scarborough</td>\n",
       "      <td>Malvern</td>\n",
       "    </tr>\n",
       "    <tr>\n",
       "      <th>9</th>\n",
       "      <td>M3B</td>\n",
       "      <td>North York</td>\n",
       "      <td>Don Mills North</td>\n",
       "    </tr>\n",
       "  </tbody>\n",
       "</table>\n",
       "</div>"
      ],
      "text/plain": [
       "  Postcode           Borough     Neighbourhood\n",
       "0      M3A        North York         Parkwoods\n",
       "1      M4A        North York  Victoria Village\n",
       "2      M5A  Downtown Toronto      Harbourfront\n",
       "3      M6A        North York  Lawrence Heights\n",
       "4      M6A        North York    Lawrence Manor\n",
       "5      M7A  Downtown Toronto      Queen's Park\n",
       "6      M9A      Queen's Park               NaN\n",
       "7      M1B       Scarborough             Rouge\n",
       "8      M1B       Scarborough           Malvern\n",
       "9      M3B        North York   Don Mills North"
      ]
     },
     "execution_count": 41,
     "metadata": {},
     "output_type": "execute_result"
    }
   ],
   "source": [
    "toronto_df.head(10)"
   ]
  },
  {
   "cell_type": "code",
   "execution_count": 102,
   "metadata": {},
   "outputs": [],
   "source": [
    "#for index, row in toronto_df.iterrows(): \n",
    "    #print (row[\"Borough\"], row[\"Neighbourhood\"]) "
   ]
  },
  {
   "cell_type": "code",
   "execution_count": 42,
   "metadata": {},
   "outputs": [
    {
     "data": {
      "text/plain": [
       "0           Parkwoods\n",
       "1    Victoria Village\n",
       "2        Harbourfront\n",
       "Name: Neighbourhood, dtype: object"
      ]
     },
     "execution_count": 42,
     "metadata": {},
     "output_type": "execute_result"
    }
   ],
   "source": [
    "toronto_df.loc[0:2,'Neighbourhood']"
   ]
  },
  {
   "cell_type": "code",
   "execution_count": 43,
   "metadata": {},
   "outputs": [
    {
     "data": {
      "text/plain": [
       "210"
      ]
     },
     "execution_count": 43,
     "metadata": {},
     "output_type": "execute_result"
    }
   ],
   "source": [
    "len(toronto_df)"
   ]
  },
  {
   "cell_type": "code",
   "execution_count": 44,
   "metadata": {},
   "outputs": [
    {
     "name": "stderr",
     "output_type": "stream",
     "text": [
      "/home/jupyterlab/conda/envs/python/lib/python3.6/site-packages/pandas/core/frame.py:4278: SettingWithCopyWarning: \n",
      "A value is trying to be set on a copy of a slice from a DataFrame\n",
      "\n",
      "See the caveats in the documentation: http://pandas.pydata.org/pandas-docs/stable/user_guide/indexing.html#returning-a-view-versus-a-copy\n",
      "  method=method,\n"
     ]
    }
   ],
   "source": [
    "toronto_df.replace(toronto_df.loc[6,'Neighbourhood'],toronto_df.loc[6,'Borough'],inplace=True)"
   ]
  },
  {
   "cell_type": "markdown",
   "metadata": {},
   "source": [
    "<b> Wherever Neighbourhood is Null, we replace it with by corresponding Borough value</b>"
   ]
  },
  {
   "cell_type": "code",
   "execution_count": 45,
   "metadata": {},
   "outputs": [],
   "source": [
    "for i in range(len(toronto_df)):\n",
    "    if(toronto_df.loc[i,'Neighbourhood']==np.nan):\n",
    "        toronto_df.replace(toronto_df.loc[i,'Neighbourhood'],toronto_df.loc[i,'Borough'],inplace=True)\n",
    "  "
   ]
  },
  {
   "cell_type": "markdown",
   "metadata": {},
   "source": [
    "<b>Grouping the Data Frame by Postcode and Borough and joining the corresponding neighborhood of that corresponding matchingf rows using comma<b>"
   ]
  },
  {
   "cell_type": "code",
   "execution_count": 65,
   "metadata": {},
   "outputs": [],
   "source": [
    "toronto_df=toronto_df.groupby(['Postcode','Borough'])['Neighbourhood'].apply(','.join)"
   ]
  },
  {
   "cell_type": "code",
   "execution_count": 67,
   "metadata": {},
   "outputs": [],
   "source": [
    "toronto_df=pd.DataFrame(toronto_df)"
   ]
  },
  {
   "cell_type": "code",
   "execution_count": 68,
   "metadata": {},
   "outputs": [
    {
     "data": {
      "text/html": [
       "<div>\n",
       "<style scoped>\n",
       "    .dataframe tbody tr th:only-of-type {\n",
       "        vertical-align: middle;\n",
       "    }\n",
       "\n",
       "    .dataframe tbody tr th {\n",
       "        vertical-align: top;\n",
       "    }\n",
       "\n",
       "    .dataframe thead th {\n",
       "        text-align: right;\n",
       "    }\n",
       "</style>\n",
       "<table border=\"1\" class=\"dataframe\">\n",
       "  <thead>\n",
       "    <tr style=\"text-align: right;\">\n",
       "      <th></th>\n",
       "      <th></th>\n",
       "      <th>Neighbourhood</th>\n",
       "    </tr>\n",
       "    <tr>\n",
       "      <th>Postcode</th>\n",
       "      <th>Borough</th>\n",
       "      <th></th>\n",
       "    </tr>\n",
       "  </thead>\n",
       "  <tbody>\n",
       "    <tr>\n",
       "      <th>M1B</th>\n",
       "      <th>Scarborough</th>\n",
       "      <td>Rouge,Malvern</td>\n",
       "    </tr>\n",
       "    <tr>\n",
       "      <th>M1C</th>\n",
       "      <th>Scarborough</th>\n",
       "      <td>Highland Creek,Rouge Hill,Port Union</td>\n",
       "    </tr>\n",
       "    <tr>\n",
       "      <th>M1E</th>\n",
       "      <th>Scarborough</th>\n",
       "      <td>Guildwood,Morningside,West Hill</td>\n",
       "    </tr>\n",
       "    <tr>\n",
       "      <th>M1G</th>\n",
       "      <th>Scarborough</th>\n",
       "      <td>Woburn</td>\n",
       "    </tr>\n",
       "    <tr>\n",
       "      <th>M1H</th>\n",
       "      <th>Scarborough</th>\n",
       "      <td>Cedarbrae</td>\n",
       "    </tr>\n",
       "    <tr>\n",
       "      <th>...</th>\n",
       "      <th>...</th>\n",
       "      <td>...</td>\n",
       "    </tr>\n",
       "    <tr>\n",
       "      <th>M9N</th>\n",
       "      <th>York</th>\n",
       "      <td>Weston</td>\n",
       "    </tr>\n",
       "    <tr>\n",
       "      <th>M9P</th>\n",
       "      <th>Etobicoke</th>\n",
       "      <td>Westmount</td>\n",
       "    </tr>\n",
       "    <tr>\n",
       "      <th>M9R</th>\n",
       "      <th>Etobicoke</th>\n",
       "      <td>Kingsview Village,Martin Grove Gardens,Richvie...</td>\n",
       "    </tr>\n",
       "    <tr>\n",
       "      <th>M9V</th>\n",
       "      <th>Etobicoke</th>\n",
       "      <td>Albion Gardens,Beaumond Heights,Humbergate,Jam...</td>\n",
       "    </tr>\n",
       "    <tr>\n",
       "      <th>M9W</th>\n",
       "      <th>Etobicoke</th>\n",
       "      <td>Northwest</td>\n",
       "    </tr>\n",
       "  </tbody>\n",
       "</table>\n",
       "<p>103 rows × 1 columns</p>\n",
       "</div>"
      ],
      "text/plain": [
       "                                                          Neighbourhood\n",
       "Postcode Borough                                                       \n",
       "M1B      Scarborough                                      Rouge,Malvern\n",
       "M1C      Scarborough               Highland Creek,Rouge Hill,Port Union\n",
       "M1E      Scarborough                    Guildwood,Morningside,West Hill\n",
       "M1G      Scarborough                                             Woburn\n",
       "M1H      Scarborough                                          Cedarbrae\n",
       "...                                                                 ...\n",
       "M9N      York                                                    Weston\n",
       "M9P      Etobicoke                                            Westmount\n",
       "M9R      Etobicoke    Kingsview Village,Martin Grove Gardens,Richvie...\n",
       "M9V      Etobicoke    Albion Gardens,Beaumond Heights,Humbergate,Jam...\n",
       "M9W      Etobicoke                                            Northwest\n",
       "\n",
       "[103 rows x 1 columns]"
      ]
     },
     "execution_count": 68,
     "metadata": {},
     "output_type": "execute_result"
    }
   ],
   "source": [
    "toronto_df"
   ]
  },
  {
   "cell_type": "markdown",
   "metadata": {},
   "source": [
    "<b>Since we are grouping by Postcode and Borough , it has become the index of the new dataframe<b>"
   ]
  },
  {
   "cell_type": "code",
   "execution_count": 69,
   "metadata": {},
   "outputs": [
    {
     "data": {
      "text/plain": [
       "MultiIndex([('M1B',  'Scarborough'),\n",
       "            ('M1C',  'Scarborough'),\n",
       "            ('M1E',  'Scarborough'),\n",
       "            ('M1G',  'Scarborough'),\n",
       "            ('M1H',  'Scarborough'),\n",
       "            ('M1J',  'Scarborough'),\n",
       "            ('M1K',  'Scarborough'),\n",
       "            ('M1L',  'Scarborough'),\n",
       "            ('M1M',  'Scarborough'),\n",
       "            ('M1N',  'Scarborough'),\n",
       "            ...\n",
       "            ('M9A', 'Queen's Park'),\n",
       "            ('M9B',    'Etobicoke'),\n",
       "            ('M9C',    'Etobicoke'),\n",
       "            ('M9L',   'North York'),\n",
       "            ('M9M',   'North York'),\n",
       "            ('M9N',         'York'),\n",
       "            ('M9P',    'Etobicoke'),\n",
       "            ('M9R',    'Etobicoke'),\n",
       "            ('M9V',    'Etobicoke'),\n",
       "            ('M9W',    'Etobicoke')],\n",
       "           names=['Postcode', 'Borough'], length=103)"
      ]
     },
     "execution_count": 69,
     "metadata": {},
     "output_type": "execute_result"
    }
   ],
   "source": [
    "toronto_df.index"
   ]
  },
  {
   "cell_type": "code",
   "execution_count": null,
   "metadata": {},
   "outputs": [],
   "source": [
    "<b> so we are resetting the index of the dataframe to get back the index as columns of dataframe<b>"
   ]
  },
  {
   "cell_type": "code",
   "execution_count": 71,
   "metadata": {},
   "outputs": [],
   "source": [
    "toronto_df.reset_index(inplace=True)"
   ]
  },
  {
   "cell_type": "markdown",
   "metadata": {},
   "source": [
    "<b> Now this is the final cleaned dataframe after several pre processing steps <b>"
   ]
  },
  {
   "cell_type": "code",
   "execution_count": 72,
   "metadata": {},
   "outputs": [
    {
     "data": {
      "text/html": [
       "<div>\n",
       "<style scoped>\n",
       "    .dataframe tbody tr th:only-of-type {\n",
       "        vertical-align: middle;\n",
       "    }\n",
       "\n",
       "    .dataframe tbody tr th {\n",
       "        vertical-align: top;\n",
       "    }\n",
       "\n",
       "    .dataframe thead th {\n",
       "        text-align: right;\n",
       "    }\n",
       "</style>\n",
       "<table border=\"1\" class=\"dataframe\">\n",
       "  <thead>\n",
       "    <tr style=\"text-align: right;\">\n",
       "      <th></th>\n",
       "      <th>Postcode</th>\n",
       "      <th>Borough</th>\n",
       "      <th>Neighbourhood</th>\n",
       "    </tr>\n",
       "  </thead>\n",
       "  <tbody>\n",
       "    <tr>\n",
       "      <th>0</th>\n",
       "      <td>M1B</td>\n",
       "      <td>Scarborough</td>\n",
       "      <td>Rouge,Malvern</td>\n",
       "    </tr>\n",
       "    <tr>\n",
       "      <th>1</th>\n",
       "      <td>M1C</td>\n",
       "      <td>Scarborough</td>\n",
       "      <td>Highland Creek,Rouge Hill,Port Union</td>\n",
       "    </tr>\n",
       "    <tr>\n",
       "      <th>2</th>\n",
       "      <td>M1E</td>\n",
       "      <td>Scarborough</td>\n",
       "      <td>Guildwood,Morningside,West Hill</td>\n",
       "    </tr>\n",
       "    <tr>\n",
       "      <th>3</th>\n",
       "      <td>M1G</td>\n",
       "      <td>Scarborough</td>\n",
       "      <td>Woburn</td>\n",
       "    </tr>\n",
       "    <tr>\n",
       "      <th>4</th>\n",
       "      <td>M1H</td>\n",
       "      <td>Scarborough</td>\n",
       "      <td>Cedarbrae</td>\n",
       "    </tr>\n",
       "    <tr>\n",
       "      <th>...</th>\n",
       "      <td>...</td>\n",
       "      <td>...</td>\n",
       "      <td>...</td>\n",
       "    </tr>\n",
       "    <tr>\n",
       "      <th>98</th>\n",
       "      <td>M9N</td>\n",
       "      <td>York</td>\n",
       "      <td>Weston</td>\n",
       "    </tr>\n",
       "    <tr>\n",
       "      <th>99</th>\n",
       "      <td>M9P</td>\n",
       "      <td>Etobicoke</td>\n",
       "      <td>Westmount</td>\n",
       "    </tr>\n",
       "    <tr>\n",
       "      <th>100</th>\n",
       "      <td>M9R</td>\n",
       "      <td>Etobicoke</td>\n",
       "      <td>Kingsview Village,Martin Grove Gardens,Richvie...</td>\n",
       "    </tr>\n",
       "    <tr>\n",
       "      <th>101</th>\n",
       "      <td>M9V</td>\n",
       "      <td>Etobicoke</td>\n",
       "      <td>Albion Gardens,Beaumond Heights,Humbergate,Jam...</td>\n",
       "    </tr>\n",
       "    <tr>\n",
       "      <th>102</th>\n",
       "      <td>M9W</td>\n",
       "      <td>Etobicoke</td>\n",
       "      <td>Northwest</td>\n",
       "    </tr>\n",
       "  </tbody>\n",
       "</table>\n",
       "<p>103 rows × 3 columns</p>\n",
       "</div>"
      ],
      "text/plain": [
       "    Postcode      Borough                                      Neighbourhood\n",
       "0        M1B  Scarborough                                      Rouge,Malvern\n",
       "1        M1C  Scarborough               Highland Creek,Rouge Hill,Port Union\n",
       "2        M1E  Scarborough                    Guildwood,Morningside,West Hill\n",
       "3        M1G  Scarborough                                             Woburn\n",
       "4        M1H  Scarborough                                          Cedarbrae\n",
       "..       ...          ...                                                ...\n",
       "98       M9N         York                                             Weston\n",
       "99       M9P    Etobicoke                                          Westmount\n",
       "100      M9R    Etobicoke  Kingsview Village,Martin Grove Gardens,Richvie...\n",
       "101      M9V    Etobicoke  Albion Gardens,Beaumond Heights,Humbergate,Jam...\n",
       "102      M9W    Etobicoke                                          Northwest\n",
       "\n",
       "[103 rows x 3 columns]"
      ]
     },
     "execution_count": 72,
     "metadata": {},
     "output_type": "execute_result"
    }
   ],
   "source": [
    "toronto_df"
   ]
  },
  {
   "cell_type": "code",
   "execution_count": 73,
   "metadata": {},
   "outputs": [
    {
     "name": "stdout",
     "output_type": "stream",
     "text": [
      "The shape of the final, cleaned Dataframe after preprocessing is : (103, 3)\n"
     ]
    }
   ],
   "source": [
    "#Viewing the shape of the final, cleaned dataframe\n",
    "print(\"The shape of the final, cleaned Dataframe after preprocessing is : {}\".format(toronto_df.shape))"
   ]
  },
  {
   "cell_type": "code",
   "execution_count": null,
   "metadata": {},
   "outputs": [],
   "source": []
  }
 ],
 "metadata": {
  "kernelspec": {
   "display_name": "Python",
   "language": "python",
   "name": "conda-env-python-py"
  },
  "language_info": {
   "codemirror_mode": {
    "name": "ipython",
    "version": 3
   },
   "file_extension": ".py",
   "mimetype": "text/x-python",
   "name": "python",
   "nbconvert_exporter": "python",
   "pygments_lexer": "ipython3",
   "version": "3.6.7"
  }
 },
 "nbformat": 4,
 "nbformat_minor": 4
}
